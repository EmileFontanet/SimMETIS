{
 "cells": [
  {
   "cell_type": "code",
   "execution_count": 1,
   "metadata": {},
   "outputs": [
    {
     "name": "stdout",
     "output_type": "stream",
     "text": [
      "Populating the interactive namespace from numpy and matplotlib\n"
     ]
    },
    {
     "name": "stderr",
     "output_type": "stream",
     "text": [
      "WARNING: AstropyDeprecationWarning: astropy.utils.compat.funcsigs is now deprecated - use inspect instead [astropy.utils.compat.funcsigs]\n"
     ]
    }
   ],
   "source": [
    "import numpy as np\n",
    "from astropy.modeling.blackbody import blackbody_lambda\n",
    "from astropy import units as u\n",
    "from astropy import constants as const\n",
    "import simmetis as sim\n",
    "from matplotlib import pyplot as plt\n",
    "from matplotlib.colors import LogNorm\n",
    "%pylab inline"
   ]
  },
  {
   "cell_type": "code",
   "execution_count": 2,
   "metadata": {},
   "outputs": [
    {
     "data": {
      "text/plain": [
       "'0.4dev-METIS'"
      ]
     },
     "execution_count": 2,
     "metadata": {},
     "output_type": "execute_result"
    }
   ],
   "source": [
    "sim.__version__"
   ]
  },
  {
   "cell_type": "markdown",
   "metadata": {},
   "source": [
    "### Number of photons generated in M1 space"
   ]
  },
  {
   "cell_type": "markdown",
   "metadata": {},
   "source": [
    "##### Compute number of photons in M1 space from basic considerations"
   ]
  },
  {
   "cell_type": "code",
   "execution_count": 3,
   "metadata": {},
   "outputs": [
    {
     "name": "stdout",
     "output_type": "stream",
     "text": [
      "Expected: The number of photons emitted from M1 per second per pixel is 9.35E+08\n"
     ]
    }
   ],
   "source": [
    "area_ELT=np.pi*((38*u.m)**2-(11.1*u.m)**2)/4\n",
    "eff_wave=11.5*u.micron ## N2 filter\n",
    "N2_edges=[10.12,13.13]\n",
    "bandwidth=(np.diff(N2_edges)[0])*u.micron ## N2 filter\n",
    "solid_angle=(0.01078*u.arcsecond)**2\n",
    "e_phot=const.h*const.c/eff_wave\n",
    "r=blackbody_lambda(eff_wave,282*u.K)\n",
    "emissivity_M1 = 0.23 # total emissivity of ELT according to ESO ICD\n",
    "emissivity_M1_with_spiders = 0.267 # total emissivity of ELT according to Roy\n",
    "n_ph_per_s=emissivity_M1_with_spiders*r*bandwidth*area_ELT*solid_angle/e_phot\n",
    "print(\"Expected: The number of photons emitted from M1 per second per pixel is {0:.2E}\".format(n_ph_per_s.decompose().value))"
   ]
  },
  {
   "cell_type": "markdown",
   "metadata": {},
   "source": [
    "##### Now compare this number to what Simcado computes"
   ]
  },
  {
   "cell_type": "code",
   "execution_count": 4,
   "metadata": {
    "collapsed": true
   },
   "outputs": [],
   "source": [
    "from simmetis.spectral import BlackbodyCurve as sim_bb"
   ]
  },
  {
   "cell_type": "code",
   "execution_count": 5,
   "metadata": {
    "collapsed": true
   },
   "outputs": [],
   "source": [
    "## the wave array needs to have > 2 elements, otherwise edge effects \n",
    "## make the number of photons a factor of 2 too large\n",
    "wave_array=np.arange(N2_edges[0],N2_edges[1],0.01)"
   ]
  },
  {
   "cell_type": "code",
   "execution_count": 6,
   "metadata": {},
   "outputs": [
    {
     "name": "stdout",
     "output_type": "stream",
     "text": [
      "SimMETIS: The number of photons emitted from M1 per second per pixel is 9.31E+08\n"
     ]
    }
   ],
   "source": [
    "em=sim_bb(wave_array,282-273.15,pix_res=0.01078,area=area_ELT.value)\n",
    "em_n_ph=emissivity_M1_with_spiders*em.photons_in_range()\n",
    "print(\"SimMETIS: The number of photons emitted from M1 per second per pixel is \\\n",
    "{0:.2E}\".format(em_n_ph))"
   ]
  },
  {
   "cell_type": "markdown",
   "metadata": {},
   "source": [
    "The two numbers are identical. Yay!"
   ]
  },
  {
   "cell_type": "markdown",
   "metadata": {},
   "source": [
    "##### Now compare this number to what Roy computed"
   ]
  },
  {
   "cell_type": "code",
   "execution_count": 7,
   "metadata": {},
   "outputs": [
    {
     "name": "stdout",
     "output_type": "stream",
     "text": [
      "935070647.2573242 1 / s\n",
      "Expected: The number of photons arriving at the detector per second per pixel is 5.23E+08\n"
     ]
    }
   ],
   "source": [
    "# to compare to Roy's number the number above needs to be corrected for \n",
    "#    - contribution by atmosphere (10%)\n",
    "#    - contribution by the entrance window (10%)\n",
    "#    - transmission of N2 filter (36%/77%); divided by transmission of telescope (which is included in the emissivity)\n",
    "# We thus arrive at\n",
    "print(n_ph_per_s.decompose())\n",
    "n_ph_per_s_det = n_ph_per_s*1.1*1.1*0.356/0.77\n",
    "print(\"Expected: The number of photons arriving at the detector per second per pixel is {0:.2E}\".format(n_ph_per_s_det.decompose().value))"
   ]
  },
  {
   "cell_type": "markdown",
   "metadata": {
    "collapsed": true
   },
   "source": [
    "This number is essentially compatible with Roy's fluxes document (v0.8, Table 4, N2 filter, median conditions) where 5.5e8 photons are given. The rest of the difference is probably because we only approximated window and atmosphere effects."
   ]
  },
  {
   "cell_type": "markdown",
   "metadata": {
    "collapsed": true
   },
   "source": [
    "### Number of photons on the detector"
   ]
  },
  {
   "cell_type": "code",
   "execution_count": 8,
   "metadata": {
    "collapsed": true
   },
   "outputs": [],
   "source": [
    "cmd = sim.UserCommands(\"metis_image_NQ.config\")\n",
    "cmd[\"OBS_EXPTIME\"]=1\n",
    "cmd[\"ATMO_USE_ATMO_BG\"] = \"yes\"\n",
    "#cmd[\"ATMO_BG_MAGNITUDE\"] = 0.8\n",
    "cmd[\"SCOPE_USE_MIRROR_BG\"] = \"yes\"\n",
    "cmd[\"SIM_VERBOSE\"]=\"no\"\n",
    "cmd[\"FPA_QE\"]=\"../data/TC_detector_METIS_NQ_no_losses.dat\""
   ]
  },
  {
   "cell_type": "code",
   "execution_count": 9,
   "metadata": {
    "collapsed": true
   },
   "outputs": [],
   "source": [
    "opt = sim.OpticalTrain(cmd)"
   ]
  },
  {
   "cell_type": "code",
   "execution_count": 10,
   "metadata": {
    "collapsed": true
   },
   "outputs": [],
   "source": [
    "fpa = sim.Detector(cmd, small_fov=False)"
   ]
  },
  {
   "cell_type": "code",
   "execution_count": 11,
   "metadata": {
    "collapsed": true
   },
   "outputs": [],
   "source": [
    "## generate a source with N=0.8 mag\n",
    "lam, spec = sim.source.flat_spectrum(0.8, \"../data/TC_filter_N2.dat\")\n",
    "#src = sim.Source(lam=lam, spectra=np.array([spec]), \n",
    "#                 ref=[0,0], x=[0,0.07], y=[0,0.07])\n",
    "src = sim.Source(lam=lam, spectra=np.array([spec]), \n",
    "                 ref=[0], x=[0], y=[0])\n",
    "src_chopped = sim.Source(lam=lam, spectra=np.array([spec]), \n",
    "                 ref=[0], x=[0], y=[1])"
   ]
  },
  {
   "cell_type": "code",
   "execution_count": 12,
   "metadata": {},
   "outputs": [
    {
     "data": {
      "text/plain": [
       "(953336522.31885278, BlackbodyCurve \n",
       " [ 0.  0.  0. ... 1537976.52627849        0.                0.        ])"
      ]
     },
     "execution_count": 12,
     "metadata": {},
     "output_type": "execute_result"
    }
   ],
   "source": [
    "opt._gen_thermal_emission() ## this is essentially the same as we calculated above"
   ]
  },
  {
   "cell_type": "markdown",
   "metadata": {},
   "source": [
    "#### Directly comparing produced and final number of photons in SimMETIS"
   ]
  },
  {
   "cell_type": "code",
   "execution_count": 13,
   "metadata": {},
   "outputs": [
    {
     "data": {
      "text/plain": [
       "954741966.04670441"
      ]
     },
     "execution_count": 13,
     "metadata": {},
     "output_type": "execute_result"
    }
   ],
   "source": [
    "opt._gen_thermal_emission()[1].photons_in_range()\n",
    "# this is more or less (!) consistent with the line before"
   ]
  },
  {
   "cell_type": "code",
   "execution_count": 14,
   "metadata": {},
   "outputs": [
    {
     "data": {
      "text/plain": [
       "[<matplotlib.lines.Line2D at 0x10f197128>]"
      ]
     },
     "execution_count": 14,
     "metadata": {},
     "output_type": "execute_result"
    },
    {
     "data": {
      "image/png": "[encoded data removed]",
      "text/plain": [
       "<matplotlib.figure.Figure at 0x10f197518>"
      ]
     },
     "metadata": {},
     "output_type": "display_data"
    }
   ],
   "source": [
    "plt.plot(opt.tc_mirror.lam,opt.tc_mirror.val)\n",
    "plt.plot([10,13],[0.47,0.47],'k--')\n",
    "# this is the total transmission of METIS without detector QE"
   ]
  },
  {
   "cell_type": "code",
   "execution_count": 15,
   "metadata": {},
   "outputs": [
    {
     "data": {
      "text/plain": [
       "443571928.2653439"
      ]
     },
     "execution_count": 15,
     "metadata": {},
     "output_type": "execute_result"
    }
   ],
   "source": [
    "opt._gen_all_tc()\n",
    "opt.n_ph_mirror\n",
    "# this is the number of background photons we get in the final produced image\n",
    "# this number is ~2% lower than the two numbers above multiplied with each other (!?)"
   ]
  },
  {
   "cell_type": "markdown",
   "metadata": {},
   "source": [
    "#### Generate the transmission curves ourselves"
   ]
  },
  {
   "cell_type": "code",
   "execution_count": 16,
   "metadata": {
    "collapsed": true
   },
   "outputs": [],
   "source": [
    "TC_ELT=sim.spectral.TransmissionCurve(\"../data/TC_mirror_total_emissivity.dat\")"
   ]
  },
  {
   "cell_type": "code",
   "execution_count": 17,
   "metadata": {
    "collapsed": true
   },
   "outputs": [],
   "source": [
    "TC_window=sim.spectral.TransmissionCurve(\"../data/TC_window_METIS.dat\")"
   ]
  },
  {
   "cell_type": "code",
   "execution_count": 18,
   "metadata": {
    "collapsed": true
   },
   "outputs": [],
   "source": [
    "TC_dichroic_CFO=sim.spectral.TransmissionCurve(\"../data/TC_dichroic_CFO.dat\")"
   ]
  },
  {
   "cell_type": "code",
   "execution_count": 19,
   "metadata": {
    "collapsed": true
   },
   "outputs": [],
   "source": [
    "# TC pupil is 1"
   ]
  },
  {
   "cell_type": "code",
   "execution_count": 20,
   "metadata": {
    "collapsed": true
   },
   "outputs": [],
   "source": [
    "TC_CFO_mirrors=sim.spectral.TransmissionCurve(\"../data/TC_mirror_aluminium.dat\")"
   ]
  },
  {
   "cell_type": "code",
   "execution_count": 21,
   "metadata": {
    "collapsed": true
   },
   "outputs": [],
   "source": [
    "TC_CFO=TC_CFO_mirrors**19"
   ]
  },
  {
   "cell_type": "code",
   "execution_count": 22,
   "metadata": {
    "collapsed": true
   },
   "outputs": [],
   "source": [
    "TC_dichroic_IMG=sim.spectral.TransmissionCurve(\"../data/TC_dichroic_IMG.dat\")"
   ]
  },
  {
   "cell_type": "code",
   "execution_count": 23,
   "metadata": {
    "collapsed": true
   },
   "outputs": [],
   "source": [
    "TC_N2=sim.spectral.TransmissionCurve(\"../data/TC_filter_N2.dat\")"
   ]
  },
  {
   "cell_type": "code",
   "execution_count": 24,
   "metadata": {
    "collapsed": true
   },
   "outputs": [],
   "source": [
    "#QE_AQUARIUS=sim.spectral.TransmissionCurve(\"../data/TC_detector_METIS_NQ.dat\")\n",
    "QE_AQUARIUS=sim.spectral.TransmissionCurve(\"../data/TC_detector_METIS_NQ_no_losses.dat\")"
   ]
  },
  {
   "cell_type": "code",
   "execution_count": 25,
   "metadata": {
    "collapsed": true
   },
   "outputs": [],
   "source": [
    "TC_total=TC_ELT*TC_window*TC_dichroic_CFO*TC_CFO*TC_dichroic_IMG*TC_N2*QE_AQUARIUS"
   ]
  },
  {
   "cell_type": "code",
   "execution_count": 26,
   "metadata": {},
   "outputs": [
    {
     "data": {
      "image/png": "[encoded data removed]",
      "text/plain": [
       "<matplotlib.figure.Figure at 0x10e941128>"
      ]
     },
     "metadata": {},
     "output_type": "display_data"
    }
   ],
   "source": [
    "plt.plot(opt.tc_mirror.lam,TC_ELT,label=\"ELT mirror reflectivity (M1-M6)\")\n",
    "plt.plot(opt.tc_mirror.lam,TC_window,label=\"METIS entrance window\")\n",
    "plt.plot(opt.tc_mirror.lam,TC_dichroic_CFO,label=\"CFO (AO) dichroic\")\n",
    "plt.plot(opt.tc_mirror.lam,TC_dichroic_IMG,label=\"IMG dichroic\")\n",
    "plt.plot(opt.tc_mirror.lam,TC_CFO,label=\"METIS CFO (19 reflections)\")\n",
    "plt.plot(opt.tc_mirror.lam,TC_N2,label=\"N2 filter\")\n",
    "plt.plot(opt.tc_mirror.lam,QE_AQUARIUS,label=\"QE Aquarius\")\n",
    "plt.plot(opt.tc_mirror.lam,TC_total,label=\"total transmission (incl. det. QE)\")\n",
    "#plt.plot(opt.tc_mirror.lam,opt.tc_mirror,label=\"simmetis tc_mirror\")\n",
    "plt.plot(opt.tc_mirror.lam,opt.tc_atmo,label=\"simmetis tc_atmo\")\n",
    "plt.legend(loc=3)\n",
    "plt.savefig(\"METIS_transmission_curves.png\")"
   ]
  },
  {
   "cell_type": "code",
   "execution_count": 27,
   "metadata": {},
   "outputs": [
    {
     "data": {
      "text/plain": [
       "<matplotlib.legend.Legend at 0x10f753518>"
      ]
     },
     "execution_count": 27,
     "metadata": {},
     "output_type": "execute_result"
    },
    {
     "data": {
      "image/png": "[encoded data removed]",
      "text/plain": [
       "<matplotlib.figure.Figure at 0x10ed5d320>"
      ]
     },
     "metadata": {},
     "output_type": "display_data"
    }
   ],
   "source": [
    "plt.plot(opt.tc_atmo.lam,TC_total,label=\"total transmission (incl. det. QE)\")\n",
    "plt.plot(opt.tc_atmo.lam,opt.tc_atmo,label=\"simmetis tc_atmo\")\n",
    "plt.legend(loc=3)"
   ]
  },
  {
   "cell_type": "markdown",
   "metadata": {},
   "source": [
    "#### Compute number of background photons in SimCADO simulated image"
   ]
  },
  {
   "cell_type": "code",
   "execution_count": 28,
   "metadata": {},
   "outputs": [
    {
     "name": "stdout",
     "output_type": "stream",
     "text": [
      "Generating image for chip 1\n",
      "Reading out chip 1 using superfast\n",
      "5.81026393154e+14 554092490.668 942473713.172 554092490.668\n",
      "5.81026e+14 5.53975e+08 9.42507e+08 5.54093e+08\n",
      "Generating image for chip 1\n",
      "Reading out chip 1 using superfast\n",
      "5.81026393154e+14 554092490.668 942473713.172 554092490.668\n",
      "5.81026e+14 5.53984e+08 9.42442e+08 5.54093e+08\n"
     ]
    }
   ],
   "source": [
    "src.apply_optical_train(opt, fpa)\n",
    "exptime=1\n",
    "photonflux = fpa.chips[0].array.T\n",
    "clean_image = photonflux * exptime ## noise free image before applying Poisson noise\n",
    "\n",
    "hdu = fpa.read_out(OBS_EXPTIME=1)\n",
    "src_chopped.apply_optical_train(opt,fpa)\n",
    "hdu_chopped = fpa.read_out(OBS_EXPTIME=1)"
   ]
  },
  {
   "cell_type": "code",
   "execution_count": 29,
   "metadata": {},
   "outputs": [
    {
     "data": {
      "text/plain": [
       "<matplotlib.colorbar.Colorbar at 0x10f4ab7b8>"
      ]
     },
     "execution_count": 29,
     "metadata": {},
     "output_type": "execute_result"
    },
    {
     "data": {
      "image/png": "[encoded data removed]",
      "text/plain": [
       "<matplotlib.figure.Figure at 0x10f08a208>"
      ]
     },
     "metadata": {},
     "output_type": "display_data"
    },
    {
     "data": {
      "image/png": "[encoded data removed]",
      "text/plain": [
       "<matplotlib.figure.Figure at 0x10f1266d8>"
      ]
     },
     "metadata": {},
     "output_type": "display_data"
    },
    {
     "data": {
      "image/png": "[encoded data removed]",
      "text/plain": [
       "<matplotlib.figure.Figure at 0x10eed4c88>"
      ]
     },
     "metadata": {},
     "output_type": "display_data"
    },
    {
     "data": {
      "image/png": "[encoded data removed]",
      "text/plain": [
       "<matplotlib.figure.Figure at 0x108c17e10>"
      ]
     },
     "metadata": {},
     "output_type": "display_data"
    }
   ],
   "source": [
    "##\n",
    "## chop A frame\n",
    "plt.figure(figsize=(12,5))\n",
    "plt.imshow(hdu[0].data, interpolation=\"none\", vmin=7.6e8,vmax=7.6e8)\n",
    "plt.colorbar()\n",
    "##\n",
    "## chop A frame without noise\n",
    "plt.figure(figsize=(12,5))\n",
    "plt.imshow(clean_image, interpolation=\"none\", vmin=7.5e8,vmax=7.6e8)\n",
    "plt.colorbar()\n",
    "##\n",
    "## chop B frame\n",
    "plt.figure(figsize=(12,5))\n",
    "plt.imshow(hdu_chopped[0].data, interpolation=\"none\")\n",
    "plt.colorbar()\n",
    "##\n",
    "## chop difference A-B frame\n",
    "plt.figure(figsize=(12,5))\n",
    "plt.imshow(hdu_chopped[0].data-hdu[0].data, interpolation=\"none\")\n",
    "plt.colorbar()"
   ]
  },
  {
   "cell_type": "code",
   "execution_count": 30,
   "metadata": {},
   "outputs": [
    {
     "data": {
      "text/plain": [
       "325.47114481861274"
      ]
     },
     "execution_count": 30,
     "metadata": {},
     "output_type": "execute_result"
    }
   ],
   "source": [
    "np.std(clean_image[200:400,200:400])"
   ]
  },
  {
   "cell_type": "code",
   "execution_count": 31,
   "metadata": {},
   "outputs": [
    {
     "data": {
      "text/plain": [
       "<matplotlib.image.AxesImage at 0x10f2327f0>"
      ]
     },
     "execution_count": 31,
     "metadata": {},
     "output_type": "execute_result"
    },
    {
     "data": {
      "image/png": "[encoded data removed]",
      "text/plain": [
       "<matplotlib.figure.Figure at 0x10f1d94e0>"
      ]
     },
     "metadata": {},
     "output_type": "display_data"
    }
   ],
   "source": [
    "plt.imshow(clean_image[200:400,200:400])"
   ]
  },
  {
   "cell_type": "code",
   "execution_count": 32,
   "metadata": {},
   "outputs": [
    {
     "data": {
      "text/plain": [
       "23551.757248793325"
      ]
     },
     "execution_count": 32,
     "metadata": {},
     "output_type": "execute_result"
    }
   ],
   "source": [
    "np.std(hdu[0].data[200:400,200:400])"
   ]
  },
  {
   "cell_type": "code",
   "execution_count": 33,
   "metadata": {},
   "outputs": [
    {
     "name": "stdout",
     "output_type": "stream",
     "text": [
      "The number of bg counts per second per pix is 5.54E+08\n"
     ]
    }
   ],
   "source": [
    "bgphotons_per_pix=np.median(hdu[0].data)\n",
    "#bgphotons_per_pix*=1.1 ## takes into account bg photons from entrance window, not included in the simulation so far\n",
    "print(\"The number of bg counts per second per pix is {0:.2E}\".format(bgphotons_per_pix))\n",
    "## Note that this is identical with bg photons if detector QE is 1 (as in TC_detector_METIS_NQ_no_losses.dat)"
   ]
  },
  {
   "cell_type": "markdown",
   "metadata": {
    "collapsed": true
   },
   "source": [
    "This number can be compared with 5.5e8 from Roy's doc (N2/median, Table 4, version 0.8)."
   ]
  },
  {
   "cell_type": "markdown",
   "metadata": {},
   "source": [
    "## ELFN"
   ]
  },
  {
   "cell_type": "code",
   "execution_count": 34,
   "metadata": {
    "collapsed": true
   },
   "outputs": [],
   "source": [
    "# from Roy; works on chop-difference frame (?)\n",
    "from  scipy.interpolate import interp1d\n",
    "def ELFN_penalty(photonflux):\n",
    "    x=[0, 2e8, 8e8,10e8,25e8] # [ph/s/pix]\n",
    "    y=[1,1.37,3.38,3.64,4.65] # ELFN noise penalty factor\n",
    "    penalty_interp=interp1d(x,y)\n",
    "    penalty=penalty_interp(photonflux)[()]\n",
    "    return(penalty)"
   ]
  },
  {
   "cell_type": "code",
   "execution_count": 35,
   "metadata": {},
   "outputs": [
    {
     "name": "stdout",
     "output_type": "stream",
     "text": [
      "554092954.19\n",
      "60199.6254559\n"
     ]
    }
   ],
   "source": [
    "noise = hdu[0].data - clean_image\n",
    "elfn_image = clean_image + ELFN_penalty(photonflux)*noise\n",
    "print(np.median(elfn_image[200:400,200:400]))\n",
    "print(np.std(elfn_image[200:400,200:400]))"
   ]
  },
  {
   "cell_type": "markdown",
   "metadata": {},
   "source": [
    "## Source photons"
   ]
  },
  {
   "cell_type": "code",
   "execution_count": 36,
   "metadata": {},
   "outputs": [
    {
     "name": "stdout",
     "output_type": "stream",
     "text": [
      "Bg-subtracted source photons (per s): 1.83E+10\n"
     ]
    }
   ],
   "source": [
    "source_bgsubtracted = np.sum(clean_image-np.median(clean_image))\n",
    "print(\"Bg-subtracted source photons (per s): {0:.2E}\".format(source_bgsubtracted))"
   ]
  },
  {
   "cell_type": "code",
   "execution_count": 37,
   "metadata": {
    "collapsed": true
   },
   "outputs": [],
   "source": [
    "# this matches with the expected flux from Roy which is 1.89e10"
   ]
  },
  {
   "cell_type": "code",
   "execution_count": 71,
   "metadata": {},
   "outputs": [
    {
     "name": "stdout",
     "output_type": "stream",
     "text": [
      "554092490.668\n"
     ]
    }
   ],
   "source": [
    "## background counts/s\n",
    "print(np.min(clean_image))"
   ]
  },
  {
   "cell_type": "markdown",
   "metadata": {},
   "source": [
    "### Compare to the number of photons to expect"
   ]
  },
  {
   "cell_type": "code",
   "execution_count": null,
   "metadata": {
    "collapsed": true
   },
   "outputs": [],
   "source": [
    "# check sim.source.photons_to_mag"
   ]
  },
  {
   "cell_type": "code",
   "execution_count": null,
   "metadata": {
    "collapsed": true
   },
   "outputs": [],
   "source": [
    "# source of 0.8 mag corresponds to 14.4 Jy in N2 according to Roy\n",
    "from astropy import units as u\n",
    "from astropy import constants as c\n",
    "F = 14.4 * u.Jy\n",
    "lam1=10.12*u.micron\n",
    "lam2=13.13*u.micron\n",
    "nu1 = c.c/lam1\n",
    "nu2 = c.c/lam2\n",
    "bandwidth_nu = - (nu2-nu1)"
   ]
  },
  {
   "cell_type": "code",
   "execution_count": null,
   "metadata": {
    "collapsed": true
   },
   "outputs": [],
   "source": [
    "e_ph = c.h*(0.5*(nu2+nu1))\n",
    "N_ph = (F * 1*u.s * area_ELT * bandwidth_nu / e_ph).decompose()\n",
    "N_ph # without transmission losses"
   ]
  },
  {
   "cell_type": "code",
   "execution_count": null,
   "metadata": {
    "collapsed": true
   },
   "outputs": [],
   "source": [
    "# including transmission losses -- it matches with the numbers above (30 Aug 2018)\n",
    "## 0.36: total system transmission ELT+METIS of N2 filter / without atmospheric losses\n",
    "## 0.6: detector QE (not included here for the time being)\n",
    "N_ph * 0.36"
   ]
  },
  {
   "cell_type": "markdown",
   "metadata": {},
   "source": [
    "### Other tests"
   ]
  },
  {
   "cell_type": "code",
   "execution_count": null,
   "metadata": {
    "collapsed": true
   },
   "outputs": [],
   "source": [
    "# The transmission curve used (tc_source includes atmosphere; tc_atmo, despite its name, doesn't)\n",
    "plt.plot(opt.tc_source.lam,opt.tc_source,label=\"total transmission\")\n",
    "plt.plot(opt.tc_atmo.lam,opt.tc_atmo, label=\"transmission without atmosphere\")\n",
    "plt.legend()"
   ]
  },
  {
   "cell_type": "code",
   "execution_count": null,
   "metadata": {
    "collapsed": true
   },
   "outputs": [],
   "source": [
    "# atmosphe\n",
    "from scipy.ndimage.filters import gaussian_filter\n",
    "plt.plot(opt.ph_atmo.lam,gaussian_filter(opt.ph_atmo,sigma=3))\n",
    "plt.ylim([0,1e6])\n",
    "plt.xlim([10,13])"
   ]
  }
 ],
 "metadata": {
  "kernelspec": {
   "display_name": "Python 3",
   "language": "python",
   "name": "python3"
  },
  "language_info": {
   "codemirror_mode": {
    "name": "ipython",
    "version": 3
   },
   "file_extension": ".py",
   "mimetype": "text/x-python",
   "name": "python",
   "nbconvert_exporter": "python",
   "pygments_lexer": "ipython3",
   "version": "3.6.1"
  }
 },
 "nbformat": 4,
 "nbformat_minor": 2
}
