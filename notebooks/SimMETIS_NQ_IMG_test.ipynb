{
 "cells": [
  {
   "cell_type": "code",
   "execution_count": 1,
   "metadata": {},
   "outputs": [
    {
     "name": "stderr",
     "output_type": "stream",
     "text": [
      "WARNING: AstropyDeprecationWarning: astropy.utils.compat.funcsigs is now deprecated - use inspect instead [astropy.utils.compat.funcsigs]\n"
     ]
    },
    {
     "name": "stdout",
     "output_type": "stream",
     "text": [
      "Populating the interactive namespace from numpy and matplotlib\n"
     ]
    }
   ],
   "source": [
    "import numpy as np\n",
    "from astropy.modeling.blackbody import blackbody_lambda\n",
    "from astropy import units as u\n",
    "from astropy import constants as const\n",
    "import simcado as sim\n",
    "from matplotlib import pyplot as plt\n",
    "from matplotlib.colors import LogNorm\n",
    "%pylab inline"
   ]
  },
  {
   "cell_type": "code",
   "execution_count": 2,
   "metadata": {},
   "outputs": [
    {
     "data": {
      "text/plain": [
       "'0.4dev-METIS'"
      ]
     },
     "execution_count": 2,
     "metadata": {},
     "output_type": "execute_result"
    }
   ],
   "source": [
    "sim.__version__"
   ]
  },
  {
   "cell_type": "markdown",
   "metadata": {},
   "source": [
    "### Number of photons generated in M1 space"
   ]
  },
  {
   "cell_type": "markdown",
   "metadata": {},
   "source": [
    "##### Compute number of photons in M1 space from basic considerations"
   ]
  },
  {
   "cell_type": "code",
   "execution_count": 36,
   "metadata": {},
   "outputs": [
    {
     "name": "stdout",
     "output_type": "stream",
     "text": [
      "Expected: The number of photons emitted from M1 per second per pixel is 7.57E+08\n"
     ]
    }
   ],
   "source": [
    "area_ELT=np.pi*((38*u.m)**2-(11.1*u.m)**2)/4\n",
    "eff_wave=11.5*u.micron ## N2 filter\n",
    "bandwidth=(13.04-10.21)*u.micron ## N2 filter\n",
    "solid_angle=(0.01078*u.arcsecond)**2\n",
    "e_phot=const.h*const.c/eff_wave\n",
    "r=blackbody_lambda(eff_wave,282*u.K)\n",
    "emissivity_M1 = 0.23 # total emissivity of ELT according to ESO ICD\n",
    "n_ph_per_s=emissivity_M1*r*bandwidth*area_ELT*solid_angle/e_phot\n",
    "print(\"Expected: The number of photons emitted from M1 per second per pixel is {0:.2E}\".format(n_ph_per_s.decompose().value))"
   ]
  },
  {
   "cell_type": "markdown",
   "metadata": {},
   "source": [
    "##### Now compare this number to what Simcado computes"
   ]
  },
  {
   "cell_type": "code",
   "execution_count": 32,
   "metadata": {
    "collapsed": true
   },
   "outputs": [],
   "source": [
    "from simcado.spectral import BlackbodyCurve as sim_bb"
   ]
  },
  {
   "cell_type": "code",
   "execution_count": 33,
   "metadata": {
    "collapsed": true
   },
   "outputs": [],
   "source": [
    "## the wave array needs to have > 2 elements, otherwise edge effects \n",
    "## make the number of photons a factor of 2 too large\n",
    "wave_array=np.arange(10.21,13.04,0.01)"
   ]
  },
  {
   "cell_type": "code",
   "execution_count": 34,
   "metadata": {},
   "outputs": [
    {
     "name": "stdout",
     "output_type": "stream",
     "text": [
      "SimCADO: The number of photons emitted from M1 per second per pixel is 7.54E+08\n"
     ]
    }
   ],
   "source": [
    "em=sim_bb(wave_array,282-273,pix_res=0.01078,area=area_ELT.value)\n",
    "em_n_ph=emissivity_M1*em.photons_in_range()\n",
    "print(\"SimCADO: The number of photons emitted from M1 per second per pixel is \\\n",
    "{0:.2E}\".format(em_n_ph))"
   ]
  },
  {
   "cell_type": "markdown",
   "metadata": {},
   "source": [
    "The two numbers are identical. Yay!"
   ]
  },
  {
   "cell_type": "markdown",
   "metadata": {},
   "source": [
    "##### Now compare this number to what Roy computed"
   ]
  },
  {
   "cell_type": "code",
   "execution_count": 39,
   "metadata": {},
   "outputs": [
    {
     "name": "stdout",
     "output_type": "stream",
     "text": [
      "Expected: The number of photons arriving at the detector per second per pixel is 4.28E+08\n"
     ]
    }
   ],
   "source": [
    "# to compare to Roy's number the number above needs to be corrected for \n",
    "#    - contribution by atmosphere (10%)\n",
    "#    - contribution by the entrance window (10%)\n",
    "#    - transmission of N2 filter (36%/77%); divided by transmission of telescope (which is included in the emissivity)\n",
    "# We thus arrive at\n",
    "n_ph_per_s_det = n_ph_per_s*1.1*1.1*0.36/0.77\n",
    "print(\"Expected: The number of photons arriving at the detector per second per pixel is {0:.2E}\".format(n_ph_per_s_det.decompose().value))"
   ]
  },
  {
   "cell_type": "markdown",
   "metadata": {
    "collapsed": true
   },
   "source": [
    "This number can be compared with Roy's fluxes document (v0.8, Table 4, N2 filter, median conditions) where 5.5e8 photons are given. This means: we miss a factor 1.3 in background photons"
   ]
  },
  {
   "cell_type": "markdown",
   "metadata": {
    "collapsed": true
   },
   "source": [
    "### Number of photons on the detector"
   ]
  },
  {
   "cell_type": "code",
   "execution_count": 40,
   "metadata": {
    "collapsed": true
   },
   "outputs": [],
   "source": [
    "cmd = sim.UserCommands(\"metis_image_NQ.config\")\n",
    "cmd[\"OBS_EXPTIME\"]=0.01\n",
    "cmd[\"ATMO_USE_ATMO_BG\"] = \"no\"\n",
    "cmd[\"SCOPE_USE_MIRROR_BG\"] = \"yes\"\n",
    "cmd[\"SIM_VERBOSE\"]=\"no\""
   ]
  },
  {
   "cell_type": "code",
   "execution_count": 41,
   "metadata": {},
   "outputs": [
    {
     "data": {
      "text/html": [
       "<i>Table length=1</i>\n",
       "<table id=\"table4594907008\" class=\"table-striped table-bordered table-condensed\">\n",
       "<thead><tr><th>Mirror</th><th>Outer</th><th>Inner</th><th>Angle</th><th>Temp</th><th>Coating</th></tr></thead>\n",
       "<thead><tr><th>str2</th><th>float64</th><th>float64</th><th>float64</th><th>float64</th><th>str38</th></tr></thead>\n",
       "<tr><td>M1</td><td>38.0</td><td>11.1</td><td>0.0</td><td>9.0</td><td>../data/TC_mirror_total_emissivity.dat</td></tr>\n",
       "</table>"
      ],
      "text/plain": [
       "<Table length=1>\n",
       "Mirror  Outer   Inner   Angle    Temp                 Coating                \n",
       " str2  float64 float64 float64 float64                 str38                 \n",
       "------ ------- ------- ------- ------- --------------------------------------\n",
       "    M1    38.0    11.1     0.0     9.0 ../data/TC_mirror_total_emissivity.dat"
      ]
     },
     "execution_count": 41,
     "metadata": {},
     "output_type": "execute_result"
    }
   ],
   "source": [
    "cmd.mirrors_telescope"
   ]
  },
  {
   "cell_type": "code",
   "execution_count": 42,
   "metadata": {
    "collapsed": true
   },
   "outputs": [],
   "source": [
    "opt = sim.OpticalTrain(cmd)"
   ]
  },
  {
   "cell_type": "code",
   "execution_count": 43,
   "metadata": {
    "collapsed": true
   },
   "outputs": [],
   "source": [
    "fpa = sim.Detector(cmd, small_fov=False)"
   ]
  },
  {
   "cell_type": "code",
   "execution_count": 78,
   "metadata": {
    "collapsed": true
   },
   "outputs": [],
   "source": [
    "## generate a source with N=0.8 mag\n",
    "lam, spec = sim.source.flat_spectrum(0.8, \"../data/TC_filter_N2.dat\")\n",
    "#src = sim.Source(lam=lam, spectra=np.array([spec]), \n",
    "#                 ref=[0,0], x=[0,0.07], y=[0,0.07])\n",
    "src = sim.Source(lam=lam, spectra=np.array([spec]), \n",
    "                 ref=[0], x=[0], y=[0])"
   ]
  },
  {
   "cell_type": "code",
   "execution_count": 45,
   "metadata": {},
   "outputs": [
    {
     "data": {
      "text/plain": [
       "(790084025.13811052, BlackbodyCurve \n",
       " [ 0.  0.  0. ... 0.  0.  0.])"
      ]
     },
     "execution_count": 45,
     "metadata": {},
     "output_type": "execute_result"
    }
   ],
   "source": [
    "opt._gen_thermal_emission()"
   ]
  },
  {
   "cell_type": "code",
   "execution_count": 46,
   "metadata": {
    "collapsed": true
   },
   "outputs": [],
   "source": [
    "#7.9e8 photons/pixel/second -- consistent with expected value (see above)"
   ]
  },
  {
   "cell_type": "code",
   "execution_count": 47,
   "metadata": {},
   "outputs": [
    {
     "data": {
      "text/plain": [
       "[<matplotlib.lines.Line2D at 0x112e92b00>]"
      ]
     },
     "execution_count": 47,
     "metadata": {},
     "output_type": "execute_result"
    },
    {
     "data": {
      "image/png": "[encoded data removed]",
      "text/plain": [
       "<matplotlib.figure.Figure at 0x112bc6c50>"
      ]
     },
     "metadata": {},
     "output_type": "display_data"
    }
   ],
   "source": [
    "## Total transmission curve from M1 to the detector\n",
    "## (i.e. the product of all TC files that are applicable)\n",
    "plt.plot(opt.tc_mirror.lam,opt.tc_mirror)"
   ]
  },
  {
   "cell_type": "markdown",
   "metadata": {},
   "source": [
    "#### Generate the transmission curves ourselves"
   ]
  },
  {
   "cell_type": "code",
   "execution_count": 48,
   "metadata": {
    "collapsed": true
   },
   "outputs": [],
   "source": [
    "TC_ELT=sim.spectral.TransmissionCurve(\"../data/TC_mirror_total_emissivity.dat\")"
   ]
  },
  {
   "cell_type": "code",
   "execution_count": 49,
   "metadata": {
    "collapsed": true
   },
   "outputs": [],
   "source": [
    "TC_window=sim.spectral.TransmissionCurve(\"../data/TC_window_METIS.dat\")"
   ]
  },
  {
   "cell_type": "code",
   "execution_count": 50,
   "metadata": {
    "collapsed": true
   },
   "outputs": [],
   "source": [
    "TC_dichroic_CFO=sim.spectral.TransmissionCurve(\"../data/TC_dichroic_CFO.dat\")"
   ]
  },
  {
   "cell_type": "code",
   "execution_count": 51,
   "metadata": {
    "collapsed": true
   },
   "outputs": [],
   "source": [
    "# TC pupil is 1"
   ]
  },
  {
   "cell_type": "code",
   "execution_count": 52,
   "metadata": {
    "collapsed": true
   },
   "outputs": [],
   "source": [
    "TC_CFO_mirrors=sim.spectral.TransmissionCurve(\"../data/TC_mirror_aluminium.dat\")"
   ]
  },
  {
   "cell_type": "code",
   "execution_count": 53,
   "metadata": {
    "collapsed": true
   },
   "outputs": [],
   "source": [
    "TC_CFO=TC_CFO_mirrors**19"
   ]
  },
  {
   "cell_type": "code",
   "execution_count": 54,
   "metadata": {
    "collapsed": true
   },
   "outputs": [],
   "source": [
    "TC_dichroic_IMG=sim.spectral.TransmissionCurve(\"../data/TC_dichroic_IMG.dat\")"
   ]
  },
  {
   "cell_type": "code",
   "execution_count": 55,
   "metadata": {
    "collapsed": true
   },
   "outputs": [],
   "source": [
    "TC_N2=sim.spectral.TransmissionCurve(\"../data/TC_filter_N2.dat\")"
   ]
  },
  {
   "cell_type": "code",
   "execution_count": 56,
   "metadata": {
    "collapsed": true
   },
   "outputs": [],
   "source": [
    "QE_AQUARIUS=sim.spectral.TransmissionCurve(\"../data/TC_detector_METIS_NQ.dat\")"
   ]
  },
  {
   "cell_type": "code",
   "execution_count": 57,
   "metadata": {
    "collapsed": true
   },
   "outputs": [],
   "source": [
    "TC_total=TC_ELT*TC_window*TC_dichroic_CFO*TC_CFO*TC_dichroic_IMG*TC_N2*QE_AQUARIUS"
   ]
  },
  {
   "cell_type": "code",
   "execution_count": 58,
   "metadata": {},
   "outputs": [
    {
     "data": {
      "image/png": "[encoded data removed]",
      "text/plain": [
       "<matplotlib.figure.Figure at 0x1130152b0>"
      ]
     },
     "metadata": {},
     "output_type": "display_data"
    }
   ],
   "source": [
    "plt.plot(opt.tc_mirror.lam,TC_ELT,label=\"ELT mirror reflectivity (M1-M6)\")\n",
    "plt.plot(opt.tc_mirror.lam,TC_window,label=\"METIS entrance window\")\n",
    "plt.plot(opt.tc_mirror.lam,TC_dichroic_CFO,label=\"CFO (AO) dichroic\")\n",
    "plt.plot(opt.tc_mirror.lam,TC_dichroic_IMG,label=\"IMG dichroic\")\n",
    "plt.plot(opt.tc_mirror.lam,TC_CFO,label=\"METIS CFO (19 reflections)\")\n",
    "plt.plot(opt.tc_mirror.lam,TC_N2,label=\"N2 filter\")\n",
    "plt.plot(opt.tc_mirror.lam,QE_AQUARIUS,label=\"QE Aquarius\")\n",
    "plt.plot(opt.tc_mirror.lam,TC_total,label=\"total transmission (incl. det. QE)\")\n",
    "#plt.plot(opt.tc_mirror.lam,opt.tc_mirror,label=\"simcado tc_mirror\")\n",
    "plt.plot(opt.tc_mirror.lam,opt.tc_atmo,label=\"simcado tc_atmo\")\n",
    "plt.legend(loc=3)\n",
    "plt.savefig(\"METIS_transmission_curves.png\")"
   ]
  },
  {
   "cell_type": "code",
   "execution_count": 59,
   "metadata": {},
   "outputs": [
    {
     "data": {
      "text/plain": [
       "<matplotlib.legend.Legend at 0x112e2f550>"
      ]
     },
     "execution_count": 59,
     "metadata": {},
     "output_type": "execute_result"
    },
    {
     "data": {
      "image/png": "[encoded data removed]",
      "text/plain": [
       "<matplotlib.figure.Figure at 0x111e134a8>"
      ]
     },
     "metadata": {},
     "output_type": "display_data"
    }
   ],
   "source": [
    "plt.plot(opt.tc_mirror.lam,TC_total,label=\"total transmission (incl. det. QE)\")\n",
    "#plt.plot(opt.tc_mirror.lam,opt.tc_mirror,label=\"simcado tc_mirror\")\n",
    "plt.plot(opt.tc_mirror.lam,opt.tc_atmo,label=\"simcado tc_atmo\")\n",
    "plt.legend(loc=3)"
   ]
  },
  {
   "cell_type": "code",
   "execution_count": 60,
   "metadata": {},
   "outputs": [
    {
     "data": {
      "text/plain": [
       "0.21359999999999998"
      ]
     },
     "execution_count": 60,
     "metadata": {},
     "output_type": "execute_result"
    }
   ],
   "source": [
    "# reading off from the transmission curve plot\n",
    "TC_total_N2 = 0.22\n",
    "## for comparison: Roy's value\n",
    "# transmission from M1 to just before the detector\n",
    "transmission_Roy_nodet=0.356\n",
    "transmission_Roy_withdet=transmission_Roy_nodet*0.6\n",
    "transmission_Roy_withdet"
   ]
  },
  {
   "cell_type": "code",
   "execution_count": 61,
   "metadata": {},
   "outputs": [
    {
     "name": "stdout",
     "output_type": "stream",
     "text": [
      "expected: The number of background photons per second per pixel shortly before the detector should be 1.66E+08\n"
     ]
    }
   ],
   "source": [
    "# Unsinn! Enthält nur M1-Photonen\n",
    "# number of background photons computed from simple calculation * transmission\n",
    "n_ph_bg=em_n_ph*TC_total_N2\n",
    "print(\"expected: The number of background photons per second per pixel shortly before the detector should be \\\n",
    "{0:.2E}\".format(n_ph_bg))"
   ]
  },
  {
   "cell_type": "markdown",
   "metadata": {},
   "source": [
    "#### Compute number of background photons in SimCADO simulated image"
   ]
  },
  {
   "cell_type": "code",
   "execution_count": 62,
   "metadata": {},
   "outputs": [
    {
     "name": "stdout",
     "output_type": "stream",
     "text": [
      "Generating image for chip 1\n",
      "Reading out chip 1 using superfast\n",
      "1.85226718361e+13 176635424.258 411114065.171 176635424.258\n",
      "1.85227e+14 1.76574e+08 4.11088e+08 1.76636e+08\n"
     ]
    }
   ],
   "source": [
    "src.apply_optical_train(opt, fpa)\n",
    "hdu = fpa.read_out(OBS_EXPTIME=1)"
   ]
  },
  {
   "cell_type": "code",
   "execution_count": 63,
   "metadata": {},
   "outputs": [
    {
     "data": {
      "text/plain": [
       "<matplotlib.colorbar.Colorbar at 0x112fc4588>"
      ]
     },
     "execution_count": 63,
     "metadata": {},
     "output_type": "execute_result"
    },
    {
     "data": {
      "image/png": "[encoded data removed]",
      "text/plain": [
       "<matplotlib.figure.Figure at 0x112eb9cf8>"
      ]
     },
     "metadata": {},
     "output_type": "display_data"
    }
   ],
   "source": [
    "plt.figure(figsize=(12,5))\n",
    "#plt.imshow(hdu[0].data[800:1200,500:1500], norm=LogNorm(), interpolation=\"none\")\n",
    "plt.imshow(hdu[0].data, interpolation=\"none\")\n",
    "plt.colorbar()"
   ]
  },
  {
   "cell_type": "code",
   "execution_count": 64,
   "metadata": {},
   "outputs": [
    {
     "name": "stdout",
     "output_type": "stream",
     "text": [
      "The number of bg photons per second per pix is 1.77E+08\n"
     ]
    }
   ],
   "source": [
    "bgphotons_per_pix=np.median(hdu[0].data)\n",
    "print(\"The number of bg photons per second per pix is {0:.2E}\".format(bgphotons_per_pix))"
   ]
  },
  {
   "cell_type": "markdown",
   "metadata": {
    "collapsed": true
   },
   "source": [
    "This number can be compared with 5.5e8 from Roy's doc (N2/median, Table 4, version 0.8) * detector_QE = 3.3e8"
   ]
  },
  {
   "cell_type": "code",
   "execution_count": 108,
   "metadata": {},
   "outputs": [
    {
     "data": {
      "text/plain": [
       "<matplotlib.colorbar.Colorbar at 0x113a54588>"
      ]
     },
     "execution_count": 108,
     "metadata": {},
     "output_type": "execute_result"
    },
    {
     "data": {
      "image/png": "[encoded data removed]",
      "text/plain": [
       "<matplotlib.figure.Figure at 0x10c68ccc0>"
      ]
     },
     "metadata": {},
     "output_type": "display_data"
    }
   ],
   "source": [
    "# Star photon counts\n",
    "plt.imshow(hdu[0].data[500:524,500:524])\n",
    "plt.colorbar()"
   ]
  },
  {
   "cell_type": "code",
   "execution_count": 109,
   "metadata": {},
   "outputs": [
    {
     "data": {
      "text/plain": [
       "<matplotlib.colorbar.Colorbar at 0x116355f28>"
      ]
     },
     "execution_count": 109,
     "metadata": {},
     "output_type": "execute_result"
    },
    {
     "data": {
      "image/png": "[encoded data removed]",
      "text/plain": [
       "<matplotlib.figure.Figure at 0x113a09940>"
      ]
     },
     "metadata": {},
     "output_type": "display_data"
    }
   ],
   "source": [
    "plt.imshow(hdu[0].data[400:424,400:424])\n",
    "plt.colorbar()"
   ]
  },
  {
   "cell_type": "code",
   "execution_count": 117,
   "metadata": {},
   "outputs": [
    {
     "name": "stdout",
     "output_type": "stream",
     "text": [
      "Number of source photons (per s): 1.12E+11, Number of bg photons (per s): 1.02E+11, bg-subtracted source photons (per s): 9.94E+09\n"
     ]
    }
   ],
   "source": [
    "###### source = np.sum(hdu[0].data[500:524,500:524])\n",
    "bg = np.sum(hdu[0].data[400:424,400:424])\n",
    "source_bg = source - bg\n",
    "print(\"Number of source photons (per s): {0:.2E}, Number of bg photons (per s): {1:.2E}, bg-subtracted source photons (per s): {2:.2E}\".format(source, bg, source_bg))"
   ]
  },
  {
   "cell_type": "markdown",
   "metadata": {},
   "source": [
    "### Compare to the number of photons to expect"
   ]
  },
  {
   "cell_type": "code",
   "execution_count": 85,
   "metadata": {
    "collapsed": true
   },
   "outputs": [],
   "source": [
    "# check sim.source.photons_to_mag"
   ]
  },
  {
   "cell_type": "code",
   "execution_count": 120,
   "metadata": {},
   "outputs": [],
   "source": [
    "# source of 0.8 mag corresponds to 19 Jy\n",
    "from astropy import units as u\n",
    "from astropy import constants as c\n",
    "F = 19 * u.Jy\n",
    "lam1=10.12*u.micron\n",
    "lam2=13.13*u.micron\n",
    "nu1 = c.c/lam1\n",
    "nu2 = c.c/lam2\n",
    "bandwidth_nu = - (nu2-nu1)"
   ]
  },
  {
   "cell_type": "code",
   "execution_count": 121,
   "metadata": {},
   "outputs": [
    {
     "data": {
      "text/latex": [
       "$6.7911287 \\times 10^{12} \\; \\mathrm{Hz}$"
      ],
      "text/plain": [
       "<Quantity 6791128684122.596 Hz>"
      ]
     },
     "execution_count": 121,
     "metadata": {},
     "output_type": "execute_result"
    }
   ],
   "source": [
    "bandwidth_nu.to(\"Hz\")"
   ]
  },
  {
   "cell_type": "code",
   "execution_count": 122,
   "metadata": {
    "collapsed": true
   },
   "outputs": [],
   "source": [
    "e_ph = c.h*(0.5*(nu2+nu1))\n",
    "N_ph = (F * 1*u.s * area_ELT * bandwidth_nu / e_ph).decompose()"
   ]
  },
  {
   "cell_type": "code",
   "execution_count": 123,
   "metadata": {},
   "outputs": [
    {
     "data": {
      "text/latex": [
       "$7.7018449 \\times 10^{10} \\; \\mathrm{}$"
      ],
      "text/plain": [
       "<Quantity 77018448594.75706>"
      ]
     },
     "execution_count": 123,
     "metadata": {},
     "output_type": "execute_result"
    }
   ],
   "source": [
    "# before any transmission losses\n",
    "N_ph"
   ]
  },
  {
   "cell_type": "code",
   "execution_count": 131,
   "metadata": {},
   "outputs": [
    {
     "data": {
      "text/latex": [
       "$1.6635985 \\times 10^{10} \\; \\mathrm{}$"
      ],
      "text/plain": [
       "<Quantity 16635984896.467524>"
      ]
     },
     "execution_count": 131,
     "metadata": {},
     "output_type": "execute_result"
    }
   ],
   "source": [
    "#after transmission losses and QE\n",
    "total_transmission = 0.36 # N2\n",
    "detector_QE = 0.6\n",
    "N_ph*total_transmission*detector_QE"
   ]
  },
  {
   "cell_type": "markdown",
   "metadata": {},
   "source": [
    "This number is a factor ~1.7 higher than the photon (electron) count rate in the Simcado FITS file"
   ]
  },
  {
   "cell_type": "code",
   "execution_count": 133,
   "metadata": {},
   "outputs": [
    {
     "data": {
      "text/latex": [
       "$4.4815413 \\times 10^{10} \\; \\mathrm{}$"
      ],
      "text/plain": [
       "<Quantity 44815412564.54715>"
      ]
     },
     "execution_count": 133,
     "metadata": {},
     "output_type": "execute_result"
    }
   ],
   "source": [
    "sim.source.mag_to_photons(\"../data/TC_filter_N2.dat\",0.8)*area_ELT/(u.m*u.m)"
   ]
  },
  {
   "cell_type": "markdown",
   "metadata": {},
   "source": [
    "N_ph * transmission of N2 filter = 6.5e10 ph/s, but here we get 4.5e10 ph/s --> Something in the conversion from mag to photons seems to be wrong"
   ]
  },
  {
   "cell_type": "code",
   "execution_count": 153,
   "metadata": {},
   "outputs": [
    {
     "data": {
      "text/plain": [
       "[<matplotlib.lines.Line2D at 0x115e66d30>]"
      ]
     },
     "execution_count": 153,
     "metadata": {},
     "output_type": "execute_result"
    },
    {
     "data": {
      "image/png": "[encoded data removed]",
      "text/plain": [
       "<matplotlib.figure.Figure at 0x115b8c208>"
      ]
     },
     "metadata": {},
     "output_type": "display_data"
    }
   ],
   "source": [
    "### compute number of photons directly from Sirius curve\n",
    "from astropy.io import ascii\n",
    "sirius=ascii.read(\"../data/sirius_downsampled.txt\")\n",
    "plt.plot(sirius[\"wlen\"],sirius[\"nphot\"])"
   ]
  },
  {
   "cell_type": "code",
   "execution_count": 157,
   "metadata": {},
   "outputs": [],
   "source": [
    "n_phot_sirius=np.sum(sirius[\"nphot\"][(sirius[\"wlen\"]>lam1.value) & (sirius[\"wlen\"]<lam2.value)])*area_ELT/(u.m*u.m)"
   ]
  },
  {
   "cell_type": "code",
   "execution_count": 158,
   "metadata": {},
   "outputs": [
    {
     "data": {
      "text/plain": [
       "0.1330454417978091"
      ]
     },
     "execution_count": 158,
     "metadata": {},
     "output_type": "execute_result"
    }
   ],
   "source": [
    "flux_ratio_sirius_star_in_file = 10**(-(0.8+1.39)/2.5)\n",
    "flux_ratio_sirius_star_in_file"
   ]
  },
  {
   "cell_type": "code",
   "execution_count": 161,
   "metadata": {},
   "outputs": [
    {
     "data": {
      "text/latex": [
       "$5.4964638 \\times 10^{10} \\; \\mathrm{}$"
      ],
      "text/plain": [
       "<Quantity 54964637659.01207>"
      ]
     },
     "execution_count": 161,
     "metadata": {},
     "output_type": "execute_result"
    }
   ],
   "source": [
    "n_phot_star_in_file = n_phot_sirius * flux_ratio_sirius_star_in_file\n",
    "n_phot_star_in_file"
   ]
  },
  {
   "cell_type": "markdown",
   "metadata": {},
   "source": [
    "Consistent with the measured bg-subtracted source counts in Simcado (after transmission + QE losses)"
   ]
  },
  {
   "cell_type": "markdown",
   "metadata": {},
   "source": [
    "Result from session on 18 June\n",
    " * The background flux is still a factor 1.7 too low (but the transmission of M1 is not the problem)\n",
    " * The number of photons that we expect from a 0.8 mag star is 1.8 times higher than the actual photon count rate on the simulated detector\n",
    " * Next: look at mag/photon conversion and/or input reference spectrum (Sirius)"
   ]
  },
  {
   "cell_type": "markdown",
   "metadata": {},
   "source": [
    "##### Compute number of photons on detector (with detector QE) from basic calculation"
   ]
  },
  {
   "cell_type": "code",
   "execution_count": 68,
   "metadata": {},
   "outputs": [
    {
     "name": "stdout",
     "output_type": "stream",
     "text": [
      "Expected: The number of photons before detector (but with det. QE) per second per pixel is 1.74E+08\n"
     ]
    }
   ],
   "source": [
    "area_ELT=np.pi*((37.3*u.m)**2-(11.1*u.m)**2)/4\n",
    "eff_wave=11.5*u.micron ## N2 filter\n",
    "bandwidth=(13.10-10.15)*u.micron ## N2 filter\n",
    "solid_angle=(0.01078*u.arcsecond)**2\n",
    "e_phot=const.h*const.c/eff_wave\n",
    "r=blackbody_lambda(eff_wave,282*u.K)\n",
    "emissivity_ELT = 0.23 # ESO ICD for ELT\n",
    "n_ph_per_s=emissivity_ELT*r*bandwidth*area_ELT*solid_angle/e_phot*TC_total_N2\n",
    "print(\"Expected: The number of photons before detector (but with det. QE) per second per pixel is {0:.2E}\".format(n_ph_per_s.decompose().value))"
   ]
  }
 ],
 "metadata": {
  "kernelspec": {
   "display_name": "Python 3",
   "language": "python",
   "name": "python3"
  },
  "language_info": {
   "codemirror_mode": {
    "name": "ipython",
    "version": 3
   },
   "file_extension": ".py",
   "mimetype": "text/x-python",
   "name": "python",
   "nbconvert_exporter": "python",
   "pygments_lexer": "ipython3",
   "version": "3.6.1"
  }
 },
 "nbformat": 4,
 "nbformat_minor": 2
}
