{
 "cells": [
  {
   "cell_type": "code",
   "execution_count": 1,
   "metadata": {},
   "outputs": [
    {
     "name": "stderr",
     "output_type": "stream",
     "text": [
      "WARNING: AstropyDeprecationWarning: astropy.utils.compat.funcsigs is now deprecated - use inspect instead [astropy.utils.compat.funcsigs]\n"
     ]
    },
    {
     "name": "stdout",
     "output_type": "stream",
     "text": [
      "Populating the interactive namespace from numpy and matplotlib\n"
     ]
    }
   ],
   "source": [
    "import numpy as np\n",
    "from astropy.modeling.blackbody import blackbody_lambda\n",
    "from astropy import units as u\n",
    "from astropy import constants as const\n",
    "import simcado as sim\n",
    "from matplotlib import pyplot as plt\n",
    "from matplotlib.colors import LogNorm\n",
    "%pylab inline"
   ]
  },
  {
   "cell_type": "code",
   "execution_count": 2,
   "metadata": {},
   "outputs": [
    {
     "data": {
      "text/plain": [
       "'0.4dev-METIS'"
      ]
     },
     "execution_count": 2,
     "metadata": {},
     "output_type": "execute_result"
    }
   ],
   "source": [
    "sim.__version__"
   ]
  },
  {
   "cell_type": "markdown",
   "metadata": {},
   "source": [
    "### Number of photons generated in M1 space"
   ]
  },
  {
   "cell_type": "markdown",
   "metadata": {},
   "source": [
    "##### Compute number of photons in M1 space from basic considerations"
   ]
  },
  {
   "cell_type": "code",
   "execution_count": 3,
   "metadata": {},
   "outputs": [
    {
     "name": "stdout",
     "output_type": "stream",
     "text": [
      "Expected: The number of photons emitted from M1 per second per pixel is 9.35E+08\n"
     ]
    }
   ],
   "source": [
    "area_ELT=np.pi*((38*u.m)**2-(11.1*u.m)**2)/4\n",
    "eff_wave=11.5*u.micron ## N2 filter\n",
    "N2_edges=[10.12,13.13]\n",
    "bandwidth=(np.diff(N2_edges)[0])*u.micron ## N2 filter\n",
    "solid_angle=(0.01078*u.arcsecond)**2\n",
    "e_phot=const.h*const.c/eff_wave\n",
    "r=blackbody_lambda(eff_wave,282*u.K)\n",
    "emissivity_M1 = 0.23 # total emissivity of ELT according to ESO ICD\n",
    "emissivity_M1_with_spiders = 0.267 # total emissivity of ELT according to Roy\n",
    "n_ph_per_s=emissivity_M1_with_spiders*r*bandwidth*area_ELT*solid_angle/e_phot\n",
    "print(\"Expected: The number of photons emitted from M1 per second per pixel is {0:.2E}\".format(n_ph_per_s.decompose().value))"
   ]
  },
  {
   "cell_type": "markdown",
   "metadata": {},
   "source": [
    "##### Now compare this number to what Simcado computes"
   ]
  },
  {
   "cell_type": "code",
   "execution_count": 4,
   "metadata": {
    "collapsed": true
   },
   "outputs": [],
   "source": [
    "from simcado.spectral import BlackbodyCurve as sim_bb"
   ]
  },
  {
   "cell_type": "code",
   "execution_count": 5,
   "metadata": {
    "collapsed": true
   },
   "outputs": [],
   "source": [
    "## the wave array needs to have > 2 elements, otherwise edge effects \n",
    "## make the number of photons a factor of 2 too large\n",
    "wave_array=np.arange(N2_edges[0],N2_edges[1],0.01)"
   ]
  },
  {
   "cell_type": "code",
   "execution_count": 6,
   "metadata": {},
   "outputs": [
    {
     "name": "stdout",
     "output_type": "stream",
     "text": [
      "SimCADO: The number of photons emitted from M1 per second per pixel is 9.31E+08\n"
     ]
    }
   ],
   "source": [
    "em=sim_bb(wave_array,282-273.15,pix_res=0.01078,area=area_ELT.value)\n",
    "em_n_ph=emissivity_M1_with_spiders*em.photons_in_range()\n",
    "print(\"SimCADO: The number of photons emitted from M1 per second per pixel is \\\n",
    "{0:.2E}\".format(em_n_ph))"
   ]
  },
  {
   "cell_type": "markdown",
   "metadata": {},
   "source": [
    "The two numbers are identical. Yay!"
   ]
  },
  {
   "cell_type": "markdown",
   "metadata": {},
   "source": [
    "##### Now compare this number to what Roy computed"
   ]
  },
  {
   "cell_type": "code",
   "execution_count": 7,
   "metadata": {},
   "outputs": [
    {
     "name": "stdout",
     "output_type": "stream",
     "text": [
      "935070647.2573242 1 / s\n",
      "Expected: The number of photons arriving at the detector per second per pixel is 5.23E+08\n"
     ]
    }
   ],
   "source": [
    "# to compare to Roy's number the number above needs to be corrected for \n",
    "#    - contribution by atmosphere (10%)\n",
    "#    - contribution by the entrance window (10%)\n",
    "#    - transmission of N2 filter (36%/77%); divided by transmission of telescope (which is included in the emissivity)\n",
    "# We thus arrive at\n",
    "print(n_ph_per_s.decompose())\n",
    "n_ph_per_s_det = n_ph_per_s*1.1*1.1*0.356/0.77\n",
    "print(\"Expected: The number of photons arriving at the detector per second per pixel is {0:.2E}\".format(n_ph_per_s_det.decompose().value))"
   ]
  },
  {
   "cell_type": "markdown",
   "metadata": {
    "collapsed": true
   },
   "source": [
    "This number is essentially compatible with Roy's fluxes document (v0.8, Table 4, N2 filter, median conditions) where 5.5e8 photons are given. The rest of the difference is probably because we only approximated window and atmosphere effects."
   ]
  },
  {
   "cell_type": "markdown",
   "metadata": {
    "collapsed": true
   },
   "source": [
    "### Number of photons on the detector"
   ]
  },
  {
   "cell_type": "code",
   "execution_count": 8,
   "metadata": {
    "collapsed": true
   },
   "outputs": [],
   "source": [
    "cmd = sim.UserCommands(\"metis_image_NQ.config\")\n",
    "cmd[\"OBS_EXPTIME\"]=0.01\n",
    "cmd[\"ATMO_USE_ATMO_BG\"] = \"yes\"\n",
    "#cmd[\"ATMO_BG_MAGNITUDE\"] = 0.8\n",
    "cmd[\"SCOPE_USE_MIRROR_BG\"] = \"yes\"\n",
    "cmd[\"SIM_VERBOSE\"]=\"no\"\n",
    "cmd[\"FPA_QE\"]=\"../data/TC_detector_METIS_NQ_no_losses.dat\""
   ]
  },
  {
   "cell_type": "code",
   "execution_count": 9,
   "metadata": {
    "collapsed": true
   },
   "outputs": [],
   "source": [
    "opt = sim.OpticalTrain(cmd)"
   ]
  },
  {
   "cell_type": "code",
   "execution_count": 10,
   "metadata": {
    "collapsed": true
   },
   "outputs": [],
   "source": [
    "fpa = sim.Detector(cmd, small_fov=False)"
   ]
  },
  {
   "cell_type": "code",
   "execution_count": 47,
   "metadata": {
    "collapsed": true
   },
   "outputs": [],
   "source": [
    "## generate a source with N=0.8 mag\n",
    "lam, spec = sim.source.flat_spectrum(0.8, \"../data/TC_filter_N2.dat\")\n",
    "#src = sim.Source(lam=lam, spectra=np.array([spec]), \n",
    "#                 ref=[0,0], x=[0,0.07], y=[0,0.07])\n",
    "src = sim.Source(lam=lam, spectra=np.array([spec]), \n",
    "                 ref=[0], x=[0], y=[0])\n",
    "src_chopped = sim.Source(lam=lam, spectra=np.array([spec]), \n",
    "                 ref=[0], x=[0], y=[1])"
   ]
  },
  {
   "cell_type": "code",
   "execution_count": 12,
   "metadata": {},
   "outputs": [
    {
     "data": {
      "text/plain": [
       "(935274400.90442371, BlackbodyCurve \n",
       " [ 0.  0.  0. ... 0.  0.  0.])"
      ]
     },
     "execution_count": 12,
     "metadata": {},
     "output_type": "execute_result"
    }
   ],
   "source": [
    "opt._gen_thermal_emission() ## this is essentially the same as we calculated above"
   ]
  },
  {
   "cell_type": "markdown",
   "metadata": {},
   "source": [
    "#### Directly comparing produced and final number of photons in Simcado"
   ]
  },
  {
   "cell_type": "code",
   "execution_count": 13,
   "metadata": {},
   "outputs": [
    {
     "data": {
      "text/plain": [
       "936684384.03029394"
      ]
     },
     "execution_count": 13,
     "metadata": {},
     "output_type": "execute_result"
    }
   ],
   "source": [
    "opt._gen_thermal_emission()[1].photons_in_range()\n",
    "# this is more or less (!) consistent with the line before"
   ]
  },
  {
   "cell_type": "code",
   "execution_count": 14,
   "metadata": {},
   "outputs": [
    {
     "data": {
      "text/plain": [
       "[<matplotlib.lines.Line2D at 0x1102fac18>]"
      ]
     },
     "execution_count": 14,
     "metadata": {},
     "output_type": "execute_result"
    },
    {
     "data": {
      "image/png": "[encoded data removed]",
      "text/plain": [
       "<matplotlib.figure.Figure at 0x1102fabe0>"
      ]
     },
     "metadata": {},
     "output_type": "display_data"
    }
   ],
   "source": [
    "plt.plot(opt.tc_mirror.lam,opt.tc_mirror.val)\n",
    "plt.plot([10,13],[0.47,0.47],'k--')\n",
    "# this is the total transmission of METIS without detector QE"
   ]
  },
  {
   "cell_type": "code",
   "execution_count": 15,
   "metadata": {},
   "outputs": [
    {
     "data": {
      "text/plain": [
       "444728313.09088874"
      ]
     },
     "execution_count": 15,
     "metadata": {},
     "output_type": "execute_result"
    }
   ],
   "source": [
    "opt._gen_all_tc()\n",
    "opt.n_ph_mirror\n",
    "# this is the number of background photons we get in the final produced image\n",
    "# this number is ~2% lower than the two numbers above multiplied with each other (!?)"
   ]
  },
  {
   "cell_type": "markdown",
   "metadata": {},
   "source": [
    "#### Generate the transmission curves ourselves"
   ]
  },
  {
   "cell_type": "code",
   "execution_count": 16,
   "metadata": {
    "collapsed": true
   },
   "outputs": [],
   "source": [
    "TC_ELT=sim.spectral.TransmissionCurve(\"../data/TC_mirror_total_emissivity.dat\")"
   ]
  },
  {
   "cell_type": "code",
   "execution_count": 17,
   "metadata": {
    "collapsed": true
   },
   "outputs": [],
   "source": [
    "TC_window=sim.spectral.TransmissionCurve(\"../data/TC_window_METIS.dat\")"
   ]
  },
  {
   "cell_type": "code",
   "execution_count": 18,
   "metadata": {
    "collapsed": true
   },
   "outputs": [],
   "source": [
    "TC_dichroic_CFO=sim.spectral.TransmissionCurve(\"../data/TC_dichroic_CFO.dat\")"
   ]
  },
  {
   "cell_type": "code",
   "execution_count": 19,
   "metadata": {
    "collapsed": true
   },
   "outputs": [],
   "source": [
    "# TC pupil is 1"
   ]
  },
  {
   "cell_type": "code",
   "execution_count": 20,
   "metadata": {
    "collapsed": true
   },
   "outputs": [],
   "source": [
    "TC_CFO_mirrors=sim.spectral.TransmissionCurve(\"../data/TC_mirror_aluminium.dat\")"
   ]
  },
  {
   "cell_type": "code",
   "execution_count": 21,
   "metadata": {
    "collapsed": true
   },
   "outputs": [],
   "source": [
    "TC_CFO=TC_CFO_mirrors**19"
   ]
  },
  {
   "cell_type": "code",
   "execution_count": 22,
   "metadata": {
    "collapsed": true
   },
   "outputs": [],
   "source": [
    "TC_dichroic_IMG=sim.spectral.TransmissionCurve(\"../data/TC_dichroic_IMG.dat\")"
   ]
  },
  {
   "cell_type": "code",
   "execution_count": 23,
   "metadata": {
    "collapsed": true
   },
   "outputs": [],
   "source": [
    "TC_N2=sim.spectral.TransmissionCurve(\"../data/TC_filter_N2.dat\")"
   ]
  },
  {
   "cell_type": "code",
   "execution_count": 24,
   "metadata": {
    "collapsed": true
   },
   "outputs": [],
   "source": [
    "#QE_AQUARIUS=sim.spectral.TransmissionCurve(\"../data/TC_detector_METIS_NQ.dat\")\n",
    "QE_AQUARIUS=sim.spectral.TransmissionCurve(\"../data/TC_detector_METIS_NQ_no_losses.dat\")"
   ]
  },
  {
   "cell_type": "code",
   "execution_count": 25,
   "metadata": {
    "collapsed": true
   },
   "outputs": [],
   "source": [
    "TC_total=TC_ELT*TC_window*TC_dichroic_CFO*TC_CFO*TC_dichroic_IMG*TC_N2*QE_AQUARIUS"
   ]
  },
  {
   "cell_type": "code",
   "execution_count": 26,
   "metadata": {},
   "outputs": [
    {
     "data": {
      "image/png": "[encoded data removed]",
      "text/plain": [
       "<matplotlib.figure.Figure at 0x10feaeb38>"
      ]
     },
     "metadata": {},
     "output_type": "display_data"
    }
   ],
   "source": [
    "plt.plot(opt.tc_mirror.lam,TC_ELT,label=\"ELT mirror reflectivity (M1-M6)\")\n",
    "plt.plot(opt.tc_mirror.lam,TC_window,label=\"METIS entrance window\")\n",
    "plt.plot(opt.tc_mirror.lam,TC_dichroic_CFO,label=\"CFO (AO) dichroic\")\n",
    "plt.plot(opt.tc_mirror.lam,TC_dichroic_IMG,label=\"IMG dichroic\")\n",
    "plt.plot(opt.tc_mirror.lam,TC_CFO,label=\"METIS CFO (19 reflections)\")\n",
    "plt.plot(opt.tc_mirror.lam,TC_N2,label=\"N2 filter\")\n",
    "plt.plot(opt.tc_mirror.lam,QE_AQUARIUS,label=\"QE Aquarius\")\n",
    "plt.plot(opt.tc_mirror.lam,TC_total,label=\"total transmission (incl. det. QE)\")\n",
    "#plt.plot(opt.tc_mirror.lam,opt.tc_mirror,label=\"simcado tc_mirror\")\n",
    "plt.plot(opt.tc_mirror.lam,opt.tc_atmo,label=\"simcado tc_atmo\")\n",
    "plt.legend(loc=3)\n",
    "plt.savefig(\"METIS_transmission_curves.png\")"
   ]
  },
  {
   "cell_type": "code",
   "execution_count": 27,
   "metadata": {},
   "outputs": [
    {
     "data": {
      "text/plain": [
       "<matplotlib.legend.Legend at 0x110209b00>"
      ]
     },
     "execution_count": 27,
     "metadata": {},
     "output_type": "execute_result"
    },
    {
     "data": {
      "image/png": "[encoded data removed]",
      "text/plain": [
       "<matplotlib.figure.Figure at 0x10fe9a518>"
      ]
     },
     "metadata": {},
     "output_type": "display_data"
    }
   ],
   "source": [
    "plt.plot(opt.tc_mirror.lam,TC_total,label=\"total transmission (incl. det. QE)\")\n",
    "#plt.plot(opt.tc_mirror.lam,opt.tc_mirror,label=\"simcado tc_mirror\")\n",
    "plt.plot(opt.tc_mirror.lam,opt.tc_atmo,label=\"simcado tc_atmo\")\n",
    "plt.legend(loc=3)"
   ]
  },
  {
   "cell_type": "markdown",
   "metadata": {},
   "source": [
    "##### Checking atmospheric emission"
   ]
  },
  {
   "cell_type": "code",
   "execution_count": 28,
   "metadata": {
    "collapsed": true
   },
   "outputs": [],
   "source": [
    "#plt.plot(opt.ec_atmo.lam,opt.ec_atmo.val) # ph/s/m**2/arcsec**2/micron\n",
    "#plt.xlim([3,20])"
   ]
  },
  {
   "cell_type": "code",
   "execution_count": 29,
   "metadata": {
    "collapsed": true
   },
   "outputs": [],
   "source": [
    "#opt.ec_atmo.params"
   ]
  },
  {
   "cell_type": "markdown",
   "metadata": {},
   "source": [
    "#### Compute number of background photons in SimCADO simulated image"
   ]
  },
  {
   "cell_type": "code",
   "execution_count": 75,
   "metadata": {},
   "outputs": [
    {
     "name": "stdout",
     "output_type": "stream",
     "text": [
      "Generating image for chip 1\n",
      "Reading out chip 1 using superfast\n",
      "5.82771970805e+13 555757180.248 944649931.521 555757180.248\n",
      "5.82772e+14 5.55648e+08 9.44653e+08 5.55758e+08\n",
      "Generating image for chip 1\n",
      "Reading out chip 1 using superfast\n",
      "5.82771970805e+13 555757180.248 944649931.521 555757180.248\n",
      "5.82772e+14 5.55645e+08 9.44656e+08 5.55758e+08\n"
     ]
    }
   ],
   "source": [
    "src.apply_optical_train(opt, fpa)\n",
    "exptime=1\n",
    "photonflux = fpa.chips[0].array.T\n",
    "clean_image = photonflux * exptime ## noise free image before applying Poisson noise\n",
    "\n",
    "hdu = fpa.read_out(OBS_EXPTIME=1)\n",
    "src_chopped.apply_optical_train(opt,fpa)\n",
    "hdu_chopped = fpa.read_out(OBS_EXPTIME=1)"
   ]
  },
  {
   "cell_type": "code",
   "execution_count": 57,
   "metadata": {},
   "outputs": [
    {
     "data": {
      "text/plain": [
       "<matplotlib.colorbar.Colorbar at 0x113d5cf98>"
      ]
     },
     "execution_count": 57,
     "metadata": {},
     "output_type": "execute_result"
    },
    {
     "data": {
      "image/png": "[encoded data removed]",
      "text/plain": [
       "<matplotlib.figure.Figure at 0x119b7c320>"
      ]
     },
     "metadata": {},
     "output_type": "display_data"
    },
    {
     "data": {
      "image/png": "[encoded data removed]",
      "text/plain": [
       "<matplotlib.figure.Figure at 0x119acaeb8>"
      ]
     },
     "metadata": {},
     "output_type": "display_data"
    },
    {
     "data": {
      "image/png": "[encoded data removed]",
      "text/plain": [
       "<matplotlib.figure.Figure at 0x110eefc88>"
      ]
     },
     "metadata": {},
     "output_type": "display_data"
    },
    {
     "data": {
      "image/png": "[encoded data removed]",
      "text/plain": [
       "<matplotlib.figure.Figure at 0x117888048>"
      ]
     },
     "metadata": {},
     "output_type": "display_data"
    }
   ],
   "source": [
    "##\n",
    "## chop A frame\n",
    "plt.figure(figsize=(12,5))\n",
    "plt.imshow(hdu[0].data, interpolation=\"none\", vmin=7.6e8,vmax=7.6e8)\n",
    "plt.colorbar()\n",
    "##\n",
    "## chop A frame without noise\n",
    "plt.figure(figsize=(12,5))\n",
    "plt.imshow(clean_image, interpolation=\"none\", vmin=7.5e8,vmax=7.6e8)\n",
    "plt.colorbar()\n",
    "##\n",
    "## chop B frame\n",
    "plt.figure(figsize=(12,5))\n",
    "plt.imshow(hdu_chopped[0].data, interpolation=\"none\")\n",
    "plt.colorbar()\n",
    "##\n",
    "## chop difference A-B frame\n",
    "plt.figure(figsize=(12,5))\n",
    "plt.imshow(hdu_chopped[0].data-hdu[0].data, interpolation=\"none\")\n",
    "plt.colorbar()"
   ]
  },
  {
   "cell_type": "code",
   "execution_count": 65,
   "metadata": {},
   "outputs": [
    {
     "data": {
      "text/plain": [
       "325.89981604303279"
      ]
     },
     "execution_count": 65,
     "metadata": {},
     "output_type": "execute_result"
    }
   ],
   "source": [
    "np.std(clean_image[200:400,200:400])"
   ]
  },
  {
   "cell_type": "code",
   "execution_count": 66,
   "metadata": {},
   "outputs": [
    {
     "data": {
      "text/plain": [
       "<matplotlib.image.AxesImage at 0x1092f9588>"
      ]
     },
     "execution_count": 66,
     "metadata": {},
     "output_type": "execute_result"
    },
    {
     "data": {
      "image/png": "[encoded data removed]",
      "text/plain": [
       "<matplotlib.figure.Figure at 0x110a20ba8>"
      ]
     },
     "metadata": {},
     "output_type": "display_data"
    }
   ],
   "source": [
    "plt.imshow(clean_image[200:400,200:400])"
   ]
  },
  {
   "cell_type": "code",
   "execution_count": 64,
   "metadata": {},
   "outputs": [
    {
     "data": {
      "text/plain": [
       "23555.340316242527"
      ]
     },
     "execution_count": 64,
     "metadata": {},
     "output_type": "execute_result"
    }
   ],
   "source": [
    "np.std(hdu[0].data[200:400,200:400])"
   ]
  },
  {
   "cell_type": "code",
   "execution_count": 32,
   "metadata": {},
   "outputs": [
    {
     "name": "stdout",
     "output_type": "stream",
     "text": [
      "The number of bg photons per second per pix is 6.11E+08\n"
     ]
    }
   ],
   "source": [
    "bgphotons_per_pix=np.median(hdu[0].data)\n",
    "bgphotons_per_pix*=1.1 ## takes into account bg photons from entrance window, not included in the simulation so far\n",
    "print(\"The number of bg photons per second per pix is {0:.2E}\".format(bgphotons_per_pix))"
   ]
  },
  {
   "cell_type": "markdown",
   "metadata": {
    "collapsed": true
   },
   "source": [
    "This number can be compared with 5.5e8 from Roy's doc (N2/median, Table 4, version 0.8)."
   ]
  },
  {
   "cell_type": "markdown",
   "metadata": {},
   "source": [
    "## ELFN"
   ]
  },
  {
   "cell_type": "code",
   "execution_count": 88,
   "metadata": {
    "collapsed": true
   },
   "outputs": [],
   "source": [
    "# from Roy; works on chop-difference frame (?)\n",
    "from  scipy.interpolate import interp1d\n",
    "def ELFN_penalty(photonflux):\n",
    "    x=[0, 2e8, 8e8,10e8,25e8] # [ph/s/pix]\n",
    "    y=[1,1.37,3.38,3.64,4.65] # ELFN noise penalty factor\n",
    "    penalty_interp=interp1d(x,y)\n",
    "    penalty=penalty_interp(photonflux)[()]\n",
    "    return(penalty)"
   ]
  },
  {
   "cell_type": "code",
   "execution_count": 105,
   "metadata": {},
   "outputs": [
    {
     "name": "stdout",
     "output_type": "stream",
     "text": [
      "555756943.824\n",
      "60505.2481713\n"
     ]
    }
   ],
   "source": [
    "noise = hdu[0].data - clean_image\n",
    "elfn_image = clean_image + ELFN_penalty(photonflux)*noise\n",
    "print(np.median(elfn_image[200:400,200:400]))\n",
    "print(np.std(elfn_image[200:400,200:400]))"
   ]
  },
  {
   "cell_type": "markdown",
   "metadata": {},
   "source": [
    "## Source photons"
   ]
  },
  {
   "cell_type": "code",
   "execution_count": null,
   "metadata": {
    "collapsed": true
   },
   "outputs": [],
   "source": [
    "# Star photon counts\n",
    "plt.imshow(hdu[0].data[500:524,500:524])\n",
    "plt.colorbar()"
   ]
  },
  {
   "cell_type": "code",
   "execution_count": null,
   "metadata": {
    "collapsed": true
   },
   "outputs": [],
   "source": [
    "plt.imshow(hdu[0].data[400:424,400:424])\n",
    "plt.colorbar()"
   ]
  },
  {
   "cell_type": "code",
   "execution_count": null,
   "metadata": {
    "collapsed": true
   },
   "outputs": [],
   "source": [
    "source = np.sum(hdu[0].data[500:524,500:524])\n",
    "bg = np.sum(hdu[0].data[400:424,400:424])\n",
    "source_bg = source - bg\n",
    "print(\"Number of source photons (per s): {0:.2E}, Number of bg photons (per s): {1:.2E}, bg-subtracted source photons (per s): {2:.2E}\".format(source, bg, source_bg))"
   ]
  },
  {
   "cell_type": "markdown",
   "metadata": {},
   "source": [
    "### Compare to the number of photons to expect"
   ]
  },
  {
   "cell_type": "code",
   "execution_count": null,
   "metadata": {
    "collapsed": true
   },
   "outputs": [],
   "source": [
    "# check sim.source.photons_to_mag"
   ]
  },
  {
   "cell_type": "code",
   "execution_count": null,
   "metadata": {
    "collapsed": true
   },
   "outputs": [],
   "source": [
    "# source of 0.8 mag corresponds to 19 Jy\n",
    "from astropy import units as u\n",
    "from astropy import constants as c\n",
    "F = 19 * u.Jy\n",
    "lam1=10.12*u.micron\n",
    "lam2=13.13*u.micron\n",
    "nu1 = c.c/lam1\n",
    "nu2 = c.c/lam2\n",
    "bandwidth_nu = - (nu2-nu1)"
   ]
  },
  {
   "cell_type": "code",
   "execution_count": null,
   "metadata": {
    "collapsed": true
   },
   "outputs": [],
   "source": [
    "bandwidth_nu.to(\"Hz\")"
   ]
  },
  {
   "cell_type": "code",
   "execution_count": null,
   "metadata": {
    "collapsed": true
   },
   "outputs": [],
   "source": [
    "e_ph = c.h*(0.5*(nu2+nu1))\n",
    "N_ph = (F * 1*u.s * area_ELT * bandwidth_nu / e_ph).decompose()"
   ]
  },
  {
   "cell_type": "code",
   "execution_count": null,
   "metadata": {
    "collapsed": true
   },
   "outputs": [],
   "source": [
    "# before any transmission losses\n",
    "N_ph"
   ]
  },
  {
   "cell_type": "code",
   "execution_count": null,
   "metadata": {
    "collapsed": true
   },
   "outputs": [],
   "source": [
    "#after transmission losses and QE\n",
    "total_transmission = 0.36 # N2\n",
    "detector_QE = 0.6\n",
    "N_ph*total_transmission*detector_QE"
   ]
  },
  {
   "cell_type": "markdown",
   "metadata": {},
   "source": [
    "This number is a factor ~1.7 higher than the photon (electron) count rate in the Simcado FITS file"
   ]
  },
  {
   "cell_type": "code",
   "execution_count": null,
   "metadata": {
    "collapsed": true
   },
   "outputs": [],
   "source": [
    "sim.source.mag_to_photons(\"../data/TC_filter_N2.dat\",0.8)*area_ELT/(u.m*u.m)"
   ]
  },
  {
   "cell_type": "markdown",
   "metadata": {},
   "source": [
    "N_ph * transmission of N2 filter = 6.5e10 ph/s, but here we get 4.5e10 ph/s --> Something in the conversion from mag to photons seems to be wrong"
   ]
  },
  {
   "cell_type": "code",
   "execution_count": null,
   "metadata": {
    "collapsed": true
   },
   "outputs": [],
   "source": [
    "### compute number of photons directly from Sirius curve\n",
    "from astropy.io import ascii\n",
    "sirius=ascii.read(\"../data/sirius_downsampled.txt\")\n",
    "plt.plot(sirius[\"wlen\"],sirius[\"nphot\"])"
   ]
  },
  {
   "cell_type": "code",
   "execution_count": null,
   "metadata": {
    "collapsed": true
   },
   "outputs": [],
   "source": [
    "n_phot_sirius=np.sum(sirius[\"nphot\"][(sirius[\"wlen\"]>lam1.value) & (sirius[\"wlen\"]<lam2.value)])*area_ELT/(u.m*u.m)"
   ]
  },
  {
   "cell_type": "code",
   "execution_count": null,
   "metadata": {
    "collapsed": true
   },
   "outputs": [],
   "source": [
    "flux_ratio_sirius_star_in_file = 10**(-(0.8+1.39)/2.5)\n",
    "flux_ratio_sirius_star_in_file"
   ]
  },
  {
   "cell_type": "code",
   "execution_count": null,
   "metadata": {
    "collapsed": true
   },
   "outputs": [],
   "source": [
    "n_phot_star_in_file = n_phot_sirius * flux_ratio_sirius_star_in_file\n",
    "n_phot_star_in_file"
   ]
  },
  {
   "cell_type": "markdown",
   "metadata": {},
   "source": [
    "Consistent with the measured bg-subtracted source counts in Simcado (after transmission + QE losses)"
   ]
  },
  {
   "cell_type": "markdown",
   "metadata": {},
   "source": [
    "Result from session on 18 June\n",
    " * The background flux is still a factor 1.7 too low (but the transmission of M1 is not the problem)\n",
    " * The number of photons that we expect from a 0.8 mag star is 1.8 times higher than the actual photon count rate on the simulated detector\n",
    " * Next: look at mag/photon conversion and/or input reference spectrum (Sirius)"
   ]
  },
  {
   "cell_type": "markdown",
   "metadata": {},
   "source": [
    "##### Compute number of photons on detector (with detector QE) from basic calculation"
   ]
  },
  {
   "cell_type": "code",
   "execution_count": null,
   "metadata": {
    "collapsed": true
   },
   "outputs": [],
   "source": [
    "area_ELT=np.pi*((37.3*u.m)**2-(11.1*u.m)**2)/4\n",
    "eff_wave=11.5*u.micron ## N2 filter\n",
    "bandwidth=(13.10-10.15)*u.micron ## N2 filter\n",
    "solid_angle=(0.01078*u.arcsecond)**2\n",
    "e_phot=const.h*const.c/eff_wave\n",
    "r=blackbody_lambda(eff_wave,282*u.K)\n",
    "emissivity_ELT = 0.23 # ESO ICD for ELT\n",
    "n_ph_per_s=emissivity_ELT*r*bandwidth*area_ELT*solid_angle/e_phot*TC_total_N2\n",
    "print(\"Expected: The number of photons before detector (but with det. QE) per second per pixel is {0:.2E}\".format(n_ph_per_s.decompose().value))"
   ]
  }
 ],
 "metadata": {
  "kernelspec": {
   "display_name": "Python 3",
   "language": "python",
   "name": "python3"
  },
  "language_info": {
   "codemirror_mode": {
    "name": "ipython",
    "version": 3
   },
   "file_extension": ".py",
   "mimetype": "text/x-python",
   "name": "python",
   "nbconvert_exporter": "python",
   "pygments_lexer": "ipython3",
   "version": "3.6.1"
  }
 },
 "nbformat": 4,
 "nbformat_minor": 2
}
