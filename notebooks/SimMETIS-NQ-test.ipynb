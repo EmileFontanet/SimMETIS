{
 "cells": [
  {
   "cell_type": "code",
   "execution_count": 3,
   "metadata": {
    "collapsed": true
   },
   "outputs": [],
   "source": [
    "import numpy as np\n",
    "from astropy.modeling.blackbody import blackbody_lambda\n",
    "from astropy import units as u\n",
    "from astropy import constants as const"
   ]
  },
  {
   "cell_type": "code",
   "execution_count": 9,
   "metadata": {},
   "outputs": [
    {
     "name": "stdout",
     "output_type": "stream",
     "text": [
      "Expected: The number of photons emitted from M1 per second per pixel is 9.48E+07\n"
     ]
    }
   ],
   "source": [
    "area_ELT=np.pi*((37.3*u.m)**2-(11.1*u.m)**2)/4\n",
    "eff_wave=11.5*u.micron ## N2 filter\n",
    "bandwidth=(13.04-10.21)*u.micron ## N2 filter\n",
    "solid_angle=(0.01078*u.arcsecond)**2\n",
    "e_phot=const.h*const.c/eff_wave\n",
    "r=blackbody_lambda(eff_wave,282*u.K)\n",
    "emissivity_M1 = 0.03 # ESO ICD for ELT\n",
    "n_ph_per_s=emissivity_M1*r*bandwidth*area_ELT*solid_angle/e_phot\n",
    "print(\"Expected: The number of photons emitted from M1 per second per pixel is {0:.2E}\".format(n_ph_per_s.decompose().value))"
   ]
  },
  {
   "cell_type": "markdown",
   "metadata": {},
   "source": [
    "Now compare this number to what Simcado computes"
   ]
  },
  {
   "cell_type": "code",
   "execution_count": 10,
   "metadata": {},
   "outputs": [],
   "source": [
    "from simcado.spectral import BlackbodyCurve as sim_bb"
   ]
  },
  {
   "cell_type": "code",
   "execution_count": 11,
   "metadata": {
    "collapsed": true
   },
   "outputs": [],
   "source": [
    "## the wave array needs to have > 2 elements, otherwise edge effects \n",
    "## make the number of photons a factor of 2 too large\n",
    "wave_array=np.arange(10.21,13.04,0.01)"
   ]
  },
  {
   "cell_type": "code",
   "execution_count": 22,
   "metadata": {},
   "outputs": [
    {
     "name": "stdout",
     "output_type": "stream",
     "text": [
      "283\n",
      "SimCADO: The number of photons emitted from M1 per second per pixel is 9.45E+07\n"
     ]
    }
   ],
   "source": [
    "em=sim_bb(wave_array,282-273,pix_res=0.01078,area=area_ELT.value)\n",
    "em_n_ph=emissivity_M1*em.photons_in_range()\n",
    "print(\"SimCADO: The number of photons emitted from M1 per second per pixel is \\\n",
    "{0:.2E}\".format(em_n_ph))"
   ]
  },
  {
   "cell_type": "markdown",
   "metadata": {},
   "source": [
    "The two numbers are identical. Yay!"
   ]
  },
  {
   "cell_type": "code",
   "execution_count": null,
   "metadata": {
    "collapsed": true
   },
   "outputs": [],
   "source": []
  }
 ],
 "metadata": {
  "kernelspec": {
   "display_name": "Python 3",
   "language": "python",
   "name": "python3"
  },
  "language_info": {
   "codemirror_mode": {
    "name": "ipython",
    "version": 3
   },
   "file_extension": ".py",
   "mimetype": "text/x-python",
   "name": "python",
   "nbconvert_exporter": "python",
   "pygments_lexer": "ipython3",
   "version": "3.6.1"
  }
 },
 "nbformat": 4,
 "nbformat_minor": 2
}
