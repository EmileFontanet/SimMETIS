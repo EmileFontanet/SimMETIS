{
 "cells": [
  {
   "cell_type": "code",
   "execution_count": 1,
   "metadata": {},
   "outputs": [
    {
     "name": "stdout",
     "output_type": "stream",
     "text": [
      "Populating the interactive namespace from numpy and matplotlib\n"
     ]
    },
    {
     "name": "stderr",
     "output_type": "stream",
     "text": [
      "WARNING: AstropyDeprecationWarning: astropy.utils.compat.funcsigs is now deprecated - use inspect instead [astropy.utils.compat.funcsigs]\n"
     ]
    }
   ],
   "source": [
    "import numpy as np\n",
    "from astropy.modeling.blackbody import blackbody_lambda\n",
    "from astropy import units as u\n",
    "from astropy import constants as const\n",
    "import simmetis as sim\n",
    "from matplotlib import pyplot as plt\n",
    "from matplotlib.colors import LogNorm\n",
    "%pylab inline"
   ]
  },
  {
   "cell_type": "markdown",
   "metadata": {},
   "source": [
    "### Number of photons on the detector"
   ]
  },
  {
   "cell_type": "code",
   "execution_count": 2,
   "metadata": {
    "collapsed": true
   },
   "outputs": [],
   "source": [
    "cmd = sim.UserCommands(\"metis_image_generic.config\")\n",
    "cmd[\"FPA_QE\"] = \"../data/TC_detector_METIS_LM.dat\"\n",
    "cmd[\"SIM_DETECTOR_PIX_SCALE\"] = 0.00525\n",
    "cmd[\"SCOPE_PSF_FILE\"] = \"PSF_diffraction_limited_4.0_microns.fits\"\n",
    "cmd[\"FPA_QE\"] = \"TC_detector_METIS_LM.dat\"\n",
    "cmd[\"FPA_CHIP_LAYOUT\"] = \"FPA_chip_layout.dat\"\n",
    "\n",
    "metis_filter_id=\"Lp\"\n",
    "cmd[\"INST_FILTER_TC\"]=\"TC_filter_\" + metis_filter_id + \".dat\""
   ]
  },
  {
   "cell_type": "code",
   "execution_count": 3,
   "metadata": {
    "collapsed": true
   },
   "outputs": [],
   "source": [
    "opt = sim.OpticalTrain(cmd)"
   ]
  },
  {
   "cell_type": "code",
   "execution_count": 4,
   "metadata": {
    "collapsed": true
   },
   "outputs": [],
   "source": [
    "fpa = sim.Detector(cmd, small_fov=False)"
   ]
  },
  {
   "cell_type": "code",
   "execution_count": 5,
   "metadata": {
    "collapsed": true
   },
   "outputs": [],
   "source": [
    "## generate a source with 0 mag and dither\n",
    "lam, spec = sim.source.flat_spectrum(0, \"TC_filter_\" + metis_filter_id + \".dat\")\n",
    "\n",
    "src = sim.Source(lam=lam, spectra=np.array([spec]), \n",
    "                 ref=[0], x=[0], y=[0])\n",
    "\n",
    "dither_offset=1 ## offsets in arcseconds\n",
    "src_dither = sim.Source(lam=lam, spectra=np.array([spec]), \n",
    "                 ref=[0], x=[0], y=[dither_offset])"
   ]
  },
  {
   "cell_type": "markdown",
   "metadata": {},
   "source": [
    "#### Undo dither movement (will preserve noise properties)"
   ]
  },
  {
   "cell_type": "code",
   "execution_count": 6,
   "metadata": {},
   "outputs": [
    {
     "name": "stdout",
     "output_type": "stream",
     "text": [
      "Generating image for chip 1\n",
      "Reading out chip 1 using superfast\n",
      "1.28313175122e+12 263365.718643 7279371437.72 263365.718647\n",
      "1.28313e+12 260817.0 7.27935e+09 263389.0\n",
      "Generating image for chip 1\n",
      "Reading out chip 1 using superfast\n",
      "1.28313175122e+12 263365.718643 7279371437.72 263365.718647\n",
      "1.28313e+12 260697.0 7.27931e+09 263389.0\n"
     ]
    }
   ],
   "source": [
    "src.apply_optical_train(opt, fpa)\n",
    "hdu = fpa.read_out()\n",
    "src_dither.apply_optical_train(opt,fpa)\n",
    "hdu_dither = fpa.read_out()"
   ]
  },
  {
   "cell_type": "code",
   "execution_count": 7,
   "metadata": {},
   "outputs": [
    {
     "data": {
      "text/plain": [
       "<matplotlib.colorbar.Colorbar at 0x1111b0e80>"
      ]
     },
     "execution_count": 7,
     "metadata": {},
     "output_type": "execute_result"
    },
    {
     "data": {
      "image/png": "[encoded data removed]",
      "text/plain": [
       "<matplotlib.figure.Figure at 0x1112aad68>"
      ]
     },
     "metadata": {},
     "output_type": "display_data"
    },
    {
     "data": {
      "image/png": "[encoded data removed]",
      "text/plain": [
       "<matplotlib.figure.Figure at 0x10ece8208>"
      ]
     },
     "metadata": {},
     "output_type": "display_data"
    }
   ],
   "source": [
    "##\n",
    "## Frame 1\n",
    "plt.figure(figsize=(12,5))\n",
    "frame1=hdu[0].data[900:1400,940:1100]\n",
    "plt.imshow(frame1, interpolation=\"none\")\n",
    "plt.colorbar()\n",
    "##\n",
    "## Dither position (frame 2)\n",
    "plt.figure(figsize=(12,5))\n",
    "frame2=hdu_dither[0].data[900:1400,940:1100]\n",
    "plt.imshow(frame2, interpolation=\"none\")\n",
    "plt.colorbar()"
   ]
  },
  {
   "cell_type": "code",
   "execution_count": 8,
   "metadata": {},
   "outputs": [
    {
     "data": {
      "text/plain": [
       "<matplotlib.colorbar.Colorbar at 0x111142860>"
      ]
     },
     "execution_count": 8,
     "metadata": {},
     "output_type": "execute_result"
    },
    {
     "data": {
      "image/png": "[encoded data removed]",
      "text/plain": [
       "<matplotlib.figure.Figure at 0x111079160>"
      ]
     },
     "metadata": {},
     "output_type": "display_data"
    }
   ],
   "source": [
    "## Shift the dithered image back to the original position and combine the two images\n",
    "frame_sum=frame1+np.roll(frame2,np.int(np.round(-dither_offset/cmd[\"SIM_DETECTOR_PIX_SCALE\"])),axis=0)\n",
    "plt.figure(figsize=(12,5))\n",
    "plt.imshow(frame_sum)\n",
    "plt.colorbar()"
   ]
  },
  {
   "cell_type": "code",
   "execution_count": null,
   "metadata": {
    "collapsed": true
   },
   "outputs": [],
   "source": []
  }
 ],
 "metadata": {
  "kernelspec": {
   "display_name": "Python 3",
   "language": "python",
   "name": "python3"
  },
  "language_info": {
   "codemirror_mode": {
    "name": "ipython",
    "version": 3
   },
   "file_extension": ".py",
   "mimetype": "text/x-python",
   "name": "python",
   "nbconvert_exporter": "python",
   "pygments_lexer": "ipython3",
   "version": "3.6.1"
  }
 },
 "nbformat": 4,
 "nbformat_minor": 2
}
