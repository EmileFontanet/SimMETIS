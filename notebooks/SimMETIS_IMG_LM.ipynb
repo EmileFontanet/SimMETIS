{
 "cells": [
  {
   "cell_type": "markdown",
   "metadata": {},
   "source": [
    "The purpose of this notebook is to simulate a simple L or M band imaging observation with METIS. Some extra cells demonstrate functions of SimMETIS. They are marked with \"INFO\" and can be deleted without affecting the outcome of the simulation."
   ]
  },
  {
   "cell_type": "code",
   "execution_count": 1,
   "metadata": {},
   "outputs": [
    {
     "name": "stdout",
     "output_type": "stream",
     "text": [
      "Populating the interactive namespace from numpy and matplotlib\n"
     ]
    }
   ],
   "source": [
    "import numpy as np\n",
    "from astropy.modeling.blackbody import blackbody_lambda\n",
    "from astropy import units as u\n",
    "from astropy import constants as const\n",
    "import simmetis as sim\n",
    "from matplotlib import pyplot as plt\n",
    "from matplotlib.colors import LogNorm\n",
    "%pylab inline"
   ]
  },
  {
   "cell_type": "markdown",
   "metadata": {},
   "source": [
    "### Number of photons on the detector"
   ]
  },
  {
   "cell_type": "code",
   "execution_count": 2,
   "metadata": {
    "collapsed": true
   },
   "outputs": [],
   "source": [
    "# Load the configuration file for the LM imaging mode of METIS.\n",
    "#    Have a look at the config file (in the same directory as this notebook);\n",
    "#    it is documented and should be self-explanatory\n",
    "cmd = sim.UserCommands(\"metis_image_LM.config\")\n",
    "\n",
    "# filter transmission curves are stored in ../data (the SIM_DATA_DIR as set in the config file given above)\n",
    "metis_filter_id=\"Lp\"\n",
    "cmd[\"INST_FILTER_TC\"]=\"TC_filter_\" + metis_filter_id + \".dat\""
   ]
  },
  {
   "cell_type": "code",
   "execution_count": 4,
   "metadata": {},
   "outputs": [
    {
     "data": {
      "text/plain": [
       "OrderedDict([('OBS_DATE', 0.0),\n",
       "             ('OBS_TIME', 0.0),\n",
       "             ('OBS_RA', 90.0),\n",
       "             ('OBS_DEC', -30.0),\n",
       "             ('OBS_ALT', 0.0),\n",
       "             ('OBS_AZ', 0.0),\n",
       "             ('OBS_ZENITH_DIST', 0.0),\n",
       "             ('OBS_PARALLACTIC_ANGLE', 0.0),\n",
       "             ('OBS_SEEING', 0.6),\n",
       "             ('OBS_FIELD_ROTATION', 0.0),\n",
       "             ('OBS_EXPTIME', 1.0),\n",
       "             ('OBS_NDIT', 1.0),\n",
       "             ('OBS_NONDESTRUCT_TRO', 2.6),\n",
       "             ('OBS_REMOVE_CONST_BG', 'no'),\n",
       "             ('OBS_READ_MODE', 'single'),\n",
       "             ('OBS_SAVE_ALL_FRAMES', 'no'),\n",
       "             ('OBS_INPUT_SOURCE_PATH', None),\n",
       "             ('OBS_FITS_EXT', 0.0),\n",
       "             ('OBS_OUTPUT_DIR', '\"./output.fits\"'),\n",
       "             ('SIM_DATA_DIR', '../data/'),\n",
       "             ('SIM_DETECTOR_PIX_SCALE', 0.00525),\n",
       "             ('SIM_OVERSAMPLING', 1.0),\n",
       "             ('SIM_PIXEL_THRESHOLD', 1.0),\n",
       "             ('SIM_LAM_TC_BIN_WIDTH', 0.001),\n",
       "             ('SIM_SPEC_MIN_STEP', 0.0001),\n",
       "             ('SIM_FILTER_THRESHOLD', 1e-09),\n",
       "             ('SIM_USE_FILTER_LAM', 'yes'),\n",
       "             ('SIM_LAM_MIN', 1.9),\n",
       "             ('SIM_LAM_MAX', 2.41),\n",
       "             ('SIM_LAM_PSF_BIN_WIDTH', 0.1),\n",
       "             ('SIM_ADC_SHIFT_THRESHOLD', 1.0),\n",
       "             ('SIM_PSF_SIZE', 1024.0),\n",
       "             ('SIM_PSF_OVERSAMPLE', 'no'),\n",
       "             ('SIM_VERBOSE', 'no'),\n",
       "             ('SIM_SIM_MESSAGE_LEVEL', 3.0),\n",
       "             ('SIM_OPT_TRAIN_IN_PATH', None),\n",
       "             ('SIM_OPT_TRAIN_OUT_PATH', None),\n",
       "             ('SIM_DETECTOR_IN_PATH', None),\n",
       "             ('SIM_DETECTOR_OUT_PATH', None),\n",
       "             ('ATMO_USE_ATMO_BG', 'yes'),\n",
       "             ('ATMO_TC', '../data/TC_sky_extended_proper.tbl'),\n",
       "             ('ATMO_EC', '../data/EC_sky_extended_proper.tbl'),\n",
       "             ('ATMO_BG_MAGNITUDE', None),\n",
       "             ('ATMO_TEMPERATURE', 0.0),\n",
       "             ('ATMO_PRESSURE', 750.0),\n",
       "             ('ATMO_REL_HUMIDITY', 60.0),\n",
       "             ('ATMO_PWV', 2.5),\n",
       "             ('SCOPE_ALTITUDE', 3060.0),\n",
       "             ('SCOPE_LATITUDE', -24.589167),\n",
       "             ('SCOPE_LONGITUDE', -70.192222),\n",
       "             ('SCOPE_PSF_FILE', '../data/PSF_SCAO_9mag_06seeing.fits'),\n",
       "             ('SCOPE_STREHL_RATIO', 1.0),\n",
       "             ('SCOPE_AO_EFFECTIVENESS', 100.0),\n",
       "             ('SCOPE_JITTER_FWHM', 0.001),\n",
       "             ('SCOPE_DRIFT_DISTANCE', 0.0),\n",
       "             ('SCOPE_DRIFT_PROFILE', 'linear'),\n",
       "             ('SCOPE_USE_MIRROR_BG', 'yes'),\n",
       "             ('SCOPE_M1_TC', '../data/TC_mirror_total_emissivity.dat'),\n",
       "             ('SCOPE_MIRROR_LIST', '../data/EC_mirrors_EELT_SCAO.tbl'),\n",
       "             ('INST_TEMPERATURE', -190.0),\n",
       "             ('INST_ENTR_NUM_SURFACES', 1.0),\n",
       "             ('INST_ENTR_WINDOW_TC', '../data/TC_window_METIS.dat'),\n",
       "             ('INST_DICHROIC_NUM_SURFACES', 1.0),\n",
       "             ('INST_DICHROIC_TC', '../data/TC_dichroic_CFO.dat'),\n",
       "             ('INST_FILTER_TC', '../data/TC_filter_Lp.dat'),\n",
       "             ('INST_PUPIL_NUM_SURFACES', 1.0),\n",
       "             ('INST_PUPIL_TC', '../data/TC_pupil.dat'),\n",
       "             ('INST_NUM_MIRRORS', 19.0),\n",
       "             ('INST_MIRROR_TC', '../data/TC_mirror_aluminium.dat'),\n",
       "             ('INST_USE_AO_MIRROR_BG', 'no'),\n",
       "             ('INST_AO_TEMPERATURE', 0.0),\n",
       "             ('INST_NUM_AO_MIRRORS', 7.0),\n",
       "             ('INST_MIRROR_AO_TC', '../data/TC_mirror_gold.dat'),\n",
       "             ('INST_MIRROR_AO_LIST', None),\n",
       "             ('INST_ADC_PERFORMANCE', 100.0),\n",
       "             ('INST_ADC_NUM_SURFACES', 1.0),\n",
       "             ('INST_ADC_TC', '../data/TC_ADC.dat'),\n",
       "             ('INST_DEROT_PERFORMANCE', 100.0),\n",
       "             ('INST_DEROT_PROFILE', 'linear'),\n",
       "             ('INST_DISTORTION_MAP', None),\n",
       "             ('INST_WFE', None),\n",
       "             ('INST_FLAT_FIELD', None),\n",
       "             ('SPEC_ORDER_SORT', 'HK'),\n",
       "             ('SPEC_SLIT_WIDTH', 'narrow'),\n",
       "             ('FPA_USE_NOISE', 'no'),\n",
       "             ('FPA_READOUT_MEDIAN', 4.0),\n",
       "             ('FPA_READOUT_STDEV', 1.0),\n",
       "             ('FPA_DARK_MEDIAN', 0.01),\n",
       "             ('FPA_DARK_STDEV', 0.01),\n",
       "             ('FPA_QE', '../data/TC_detector_METIS_LM.dat'),\n",
       "             ('FPA_NOISE_PATH', '../data/FPA_H2RG_noise.fits'),\n",
       "             ('FPA_GAIN', 1.0),\n",
       "             ('FPA_LINEARITY_CURVE', None),\n",
       "             ('FPA_FULL_WELL_DEPTH', 100000.0),\n",
       "             ('FPA_PIXEL_MAP', None),\n",
       "             ('FPA_DEAD_PIXELS', 0.0),\n",
       "             ('FPA_DEAD_LINES', 0.0),\n",
       "             ('FPA_CHIP_LAYOUT', '../data/FPA_chip_layout_HAWAII.dat'),\n",
       "             ('FPA_PIXEL_READ_TIME', 1e-05),\n",
       "             ('FPA_READ_OUT_SCHEME', 'double_corr'),\n",
       "             ('HXRG_NUM_OUTPUTS', 64.0),\n",
       "             ('HXRG_NUM_ROW_OH', 8.0),\n",
       "             ('HXRG_PCA0_FILENAME',\n",
       "              '/usr/local/Cellar/python3/3.6.1/Frameworks/Python.framework/Versions/3.6/lib/python3.6/site-packages/simmetis/data/FPA_nirspec_pca0.fits'),\n",
       "             ('HXRG_OUTPUT_PATH', None),\n",
       "             ('HXRG_PEDESTAL', 4.0),\n",
       "             ('HXRG_CORR_PINK', 3.0),\n",
       "             ('HXRG_UNCORR_PINK', 1.0),\n",
       "             ('HXRG_ALT_COL_NOISE', 0.5),\n",
       "             ('HXRG_NAXIS1', 4096.0),\n",
       "             ('HXRG_NAXIS2', 4096.0),\n",
       "             ('HXRG_NUM_NDRO', 1.0),\n",
       "             ('CONFIG_USER', 'metis_image_LM.config'),\n",
       "             ('CONFIG_DEFAULT',\n",
       "              '/usr/local/Cellar/python3/3.6.1/Frameworks/Python.framework/Versions/3.6/lib/python3.6/site-packages/simmetis/data/default.config'),\n",
       "             ('PSF_MODE', 'linear_interp'),\n",
       "             ('ATMO_AIRMASS', 1.0),\n",
       "             ('INST_TOTAL_WFE', 0)])"
      ]
     },
     "execution_count": 4,
     "metadata": {},
     "output_type": "execute_result"
    }
   ],
   "source": [
    "# INFO -- show list of commands\n",
    "cmd.cmds"
   ]
  },
  {
   "cell_type": "code",
   "execution_count": 6,
   "metadata": {},
   "outputs": [
    {
     "name": "stderr",
     "output_type": "stream",
     "text": [
      "/usr/local/Cellar/python3/3.6.1/Frameworks/Python.framework/Versions/3.6/lib/python3.6/site-packages/simmetis/psf.py:1200: UserWarning: CDELT > 1. Assuming the scale to be [mas]\n",
      "  warnings.warn(\"CDELT > 1. Assuming the scale to be [mas]\")\n"
     ]
    }
   ],
   "source": [
    "# build the optical train (re-samples transmission curves etc. to the required resolution and takes a moment)\n",
    "#   With the default PSF this currently produces a UserWarning that can be ignored.\n",
    "opt = sim.OpticalTrain(cmd)"
   ]
  },
  {
   "cell_type": "code",
   "execution_count": 9,
   "metadata": {
    "collapsed": true
   },
   "outputs": [],
   "source": [
    "# initialise a detector object: This holds the detector layout and QE curve \n",
    "#    and will later be used to add Poisson noise to the incoming photon-field.\n",
    "fpa = sim.Detector(cmd, small_fov=False)"
   ]
  },
  {
   "cell_type": "code",
   "execution_count": 10,
   "metadata": {
    "collapsed": true
   },
   "outputs": [],
   "source": [
    "## generate a source with 0 mag and dither\n",
    "lam, spec = sim.source.flat_spectrum(0, \"TC_filter_\" + metis_filter_id + \".dat\")\n",
    "\n",
    "src = sim.Source(lam=lam, spectra=np.array([spec]), \n",
    "                 ref=[0], x=[0], y=[0])\n",
    "\n",
    "dither_offset=1 ## offsets in arcseconds\n",
    "src_dither = sim.Source(lam=lam, spectra=np.array([spec]), \n",
    "                 ref=[0], x=[0], y=[dither_offset])"
   ]
  },
  {
   "cell_type": "code",
   "execution_count": 11,
   "metadata": {},
   "outputs": [
    {
     "name": "stdout",
     "output_type": "stream",
     "text": [
      "Generating image for chip 1\n",
      "Reading out chip 1 using superfast\n",
      "1.28313166311e+12 263365.718645 6349571535.61 263479.31715\n",
      "1.28313e+12 260863.0 6.34952e+09 263688.0\n",
      "Generating image for chip 1\n",
      "Reading out chip 1 using superfast\n",
      "1.28313166311e+12 263365.718645 6349571535.61 263479.31715\n",
      "1.28313e+12 260913.0 6.34958e+09 263687.0\n"
     ]
    }
   ],
   "source": [
    "# Apply the transmission curves etc. to the source object, read out the detector / construct a FITS HDU object\n",
    "#    We repeat this for the nominal position and the dither position to simulate a dithered observation.\n",
    "src.apply_optical_train(opt, fpa)\n",
    "hdu = fpa.read_out()\n",
    "src_dither.apply_optical_train(opt,fpa)\n",
    "hdu_dither = fpa.read_out()"
   ]
  },
  {
   "cell_type": "code",
   "execution_count": 14,
   "metadata": {},
   "outputs": [
    {
     "data": {
      "text/plain": [
       "<matplotlib.colorbar.Colorbar at 0x112476a20>"
      ]
     },
     "execution_count": 14,
     "metadata": {},
     "output_type": "execute_result"
    },
    {
     "data": {
      "image/png": "[encoded data removed]",
      "text/plain": [
       "<matplotlib.figure.Figure at 0x112bb5c88>"
      ]
     },
     "metadata": {},
     "output_type": "display_data"
    },
    {
     "data": {
      "image/png": "[encoded data removed]",
      "text/plain": [
       "<matplotlib.figure.Figure at 0x112582518>"
      ]
     },
     "metadata": {},
     "output_type": "display_data"
    }
   ],
   "source": [
    "## Let's have a look at our object\n",
    "##\n",
    "## Nominal position\n",
    "plt.figure(figsize=(12,5))\n",
    "frame1=hdu[0].data\n",
    "plt.imshow(frame1[900:1400,940:1100], interpolation=\"none\")\n",
    "plt.colorbar()\n",
    "##\n",
    "## Dither position (frame 2)\n",
    "plt.figure(figsize=(12,5))\n",
    "frame2=hdu_dither[0].data\n",
    "plt.imshow(frame2[900:1400,940:1100], interpolation=\"none\")\n",
    "plt.colorbar()"
   ]
  },
  {
   "cell_type": "code",
   "execution_count": 18,
   "metadata": {},
   "outputs": [
    {
     "data": {
      "text/plain": [
       "<matplotlib.colorbar.Colorbar at 0x112d53048>"
      ]
     },
     "execution_count": 18,
     "metadata": {},
     "output_type": "execute_result"
    },
    {
     "data": {
      "image/png": "[encoded data removed]",
      "text/plain": [
       "<matplotlib.figure.Figure at 0x112318b38>"
      ]
     },
     "metadata": {},
     "output_type": "display_data"
    }
   ],
   "source": [
    "## Shift the dithered image back to the original position and combine the two images\n",
    "##    This is the final result for this simulation.\n",
    "frame_sum=frame1+np.roll(frame2,np.int(np.round(-dither_offset/cmd[\"SIM_DETECTOR_PIX_SCALE\"])),axis=0)\n",
    "plt.figure(figsize=(12,5))\n",
    "plt.imshow(frame_sum[940:1100,940:1100])\n",
    "plt.colorbar()"
   ]
  }
 ],
 "metadata": {
  "kernelspec": {
   "display_name": "Python 3",
   "language": "python",
   "name": "python3"
  },
  "language_info": {
   "codemirror_mode": {
    "name": "ipython",
    "version": 3
   },
   "file_extension": ".py",
   "mimetype": "text/x-python",
   "name": "python",
   "nbconvert_exporter": "python",
   "pygments_lexer": "ipython3",
   "version": "3.6.1"
  }
 },
 "nbformat": 4,
 "nbformat_minor": 2
}
